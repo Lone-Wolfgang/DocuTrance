{
 "cells": [
  {
   "cell_type": "markdown",
   "id": "3885f650",
   "metadata": {},
   "source": [
    "# Core Competencies of Ericksonian Therapy\n",
    "\n",
    "This notebook describes the preparation of the *Core Competencies* multilingual [dataset](https://huggingface.co/datasets/LoneWolfgang/ericksonian-core-competencies-multilingual).\n",
    "\n",
    "The *Core Competencies* is a training manual that explores the history and methodology of Ericksonian therapy. The original [English](../data/documents/core_competencies/CCET-en.pdf) version has been translated into four languages:\n",
    " - [French](../data/documents/core_competencies/CCET-fr.pdf)\n",
    " - [Italian](../data/documents/core_competencies/CCET-it.pdf)\n",
    " - [Portuguese](../data/documents/core_competencies/CCET-pt.pdf)\n",
    " - [Spanish](../data/documents/core_competencies/CCET-es.pdf)\n",
    "\n",
    "The manual has also been translated into [Indonesian](../data/documents/core_competencies/CCET-id.pdf). However, unlike the other translations, the Indonesian manual reorganizes the material and introduces original content. It remains to be seen whether portions of this version align more closely at the sentence level. Future updates may include Indonesian data.\n",
    "\n",
    "## Setup\n",
    "\n",
    "To follow along, you will need to install the purpose built Python package, `docutrance`. This will install depencies and some custom objects.\n",
    "\n",
    "```\n",
    "pip install docutrance\n",
    "```\n",
    "\n",
    "## Outline\n",
    "\n",
    "This notebook is divided into three sections:\n",
    "\n",
    "- **Section Alignment**  \n",
    "  This section explains how content and headers were manually extracted from the raw material and organized into a structured corpus JSON file.\n",
    "\n",
    "- **Sentence Alignment**  \n",
    "  This section describes how a multilingual sentence embedder was used to automatically align sentences across languages, proceeding section by section.\n",
    "\n",
    "- **Evaluation**  \n",
    "  This section outlines the contents of the dataset and highlights current shortcomings that may need to be addressed in downstream tasks.\n",
    "\n",
    "## Section Alignment\n",
    "\n",
    "The *Core Competencies* manual was translated by teams of native speakers with expertise in Ericksonian therapy. Efforts were made to closely follow the structure of the original English version. However, natural differences in discourse structure across languages entail some divergence in sentence and paragraph organization. As a result, even high-quality translations require context-aware methods for accurate sentence alignment.\n",
    "\n",
    "To align sentences, we will use a multilingual SBERT model to encode and compare sentences via cosine similarity. Notably, the same model used for alignment will eventually be finetuned during training. This approach carries some risk: if the initial model produces poor alignments, its biases will persist through training. To mitigate this, we will leverage the document structure. Between translations, chapters and sections are perfectly aligned. Thus, sentence alignment will proceed section by section. This approach not only improves accuracy by narrowing the alignment context but also reduces memory usage.\n",
    "\n",
    "The contents of the *Core Competencies* were manually extracted and structured into [JSON](../data/corpora/core_competencies.json):\n",
    "```\n",
    "{\n",
    "    \"section_id\": {\n",
    "        \"language\": {\n",
    "            \"header\": \"...\",\n",
    "            \"content\": \"...\"\n",
    "        },\n",
    "        ...\n",
    "    },\n",
    "}\n",
    "```\n",
    "\n",
    " - **section_id**: A string identifier representing the chapter and section (e.g., \"1-1\", \"2-3)\n",
    " - **language**: An ISO 639-1 language code—either 'en', 'fr', 'it', 'pt', or 'es'.\n",
    " - **header**: The section header extracted from the source document.\n",
    " - **contenut**: The full text content of the corresponding section."
   ]
  },
  {
   "cell_type": "code",
   "execution_count": 2,
   "id": "4b04e4f5",
   "metadata": {},
   "outputs": [
    {
     "name": "stdout",
     "output_type": "stream",
     "text": [
      "Sections: ['0-1', '0-2', '0-3', '0-4'] . . . ['4-3', '5-1', '5-2', '5-3']\n",
      "Languages: ['en', 'es', 'fr', 'it', 'pt']\n",
      "\n",
      "Entry for Section 0-3, it:\n",
      "\n",
      "\tHeader: COME È STATO CREATO QUESTO MANUALE\n",
      "\tContent: Diversamente dalle altre scuole tradizionali di psicoterapia, la . . .\n"
     ]
    }
   ],
   "source": [
    "from pathlib import Path\n",
    "import json\n",
    "import random\n",
    "\n",
    "path = '../data/corpora/core_competencies.json'\n",
    "load_json = lambda path: json.loads(Path(path).read_text())\n",
    "\n",
    "corpus = load_json(path)\n",
    "\n",
    "sections = list(corpus.keys())\n",
    "langs = list(corpus[sections[0]].keys())\n",
    "section, lang = random.choice(sections), random.choice(langs)\n",
    "entry = corpus[section][lang]\n",
    "\n",
    "print(\"Sections:\", sections[:4], '. . .', sections[-4:])\n",
    "print(\"Languages:\", langs)\n",
    "print()\n",
    "print(f\"Entry for Section {section}, {lang}:\\n\")\n",
    "print(\"\\tHeader:\", entry[\"header\"])\n",
    "print(\"\\tContent:\", entry[\"content\"][:64], '. . .')\n",
    "\n"
   ]
  },
  {
   "cell_type": "markdown",
   "id": "e35e18d9",
   "metadata": {},
   "source": [
    "## Sentence Alignment\n",
    "\n",
    "To perform sentence alignment, we first need to split paragraphs into individual sentences. However, sentence tokenization is not language-agnostic. Different languages require different rules and models to tokenize correctly. \n",
    "\n",
    "To handle this, we use a set of language-optimized tokenizers trained by [spaCy](https://spacy.io/universe/project/spacy-udpipe) as part of the Universal Dependencies (UD) project. These UD-based tokenizers are lightweight and performant when the language is explicitly defined.\n",
    "\n",
    "To simplify the implementation, we use the class **`docutrance.preprocess.UDSentenceTokenizer`**. Given a list of languages, this class automatically downloads the necessary language models and stores the tokenizers in memory for reuse."
   ]
  },
  {
   "cell_type": "code",
   "execution_count": 13,
   "id": "5f367820",
   "metadata": {},
   "outputs": [
    {
     "name": "stdout",
     "output_type": "stream",
     "text": [
      "Initializing UD Tokenizer for ['en', 'es', 'fr', 'it', 'pt']. . .\n",
      "Already downloaded a model for the 'en' language\n",
      "Already downloaded a model for the 'es' language\n",
      "Already downloaded a model for the 'fr' language\n",
      "Already downloaded a model for the 'it' language\n",
      "Already downloaded a model for the 'pt' language\n",
      "\n",
      "en: ['Hello World.', 'How are you?']\n",
      "es: ['Hola mundo.', '¿Cómo estás?']\n",
      "fr: ['Bonjour tout le monde.', 'Comment allez-vous?']\n",
      "it: ['Ciao mondo.', 'Come stai?']\n",
      "pt: ['Olá, mundo.', 'Como você está?']\n"
     ]
    }
   ],
   "source": [
    "from docutrance.preprocess import UDSentenceTokenizer\n",
    "\n",
    "paragraphs = {\n",
    "    \"en\": \"Hello World. How are you?\",\n",
    "    \"es\": \"Hola mundo. ¿Cómo estás?\",\n",
    "    \"fr\": \"Bonjour tout le monde. Comment allez-vous?\",\n",
    "    \"it\": \"Ciao mondo. Come stai?\",\n",
    "    \"pt\": \"Olá, mundo. Como você está?\"\n",
    "}\n",
    "\n",
    "languages = list(paragraphs.keys())\n",
    "tokenizer = UDSentenceTokenizer(languages)\n",
    "\n",
    "sentences = {k: tokenizer.tokenize(k, v) for k,v in paragraphs.items()}\n",
    "\n",
    "print()\n",
    "for lang, sents in sentences.items():\n",
    "    print(f'{lang}:', sents)"
   ]
  },
  {
   "cell_type": "markdown",
   "id": "d484fa9c",
   "metadata": {},
   "source": [
    "To align sentences, we use the best-performing multilingual model from [SBERT](https://huggingface.co/sentence-transformers/paraphrase-multilingual-mpnet-base-v2).\n",
    "\n",
    "The function **`docutrance.preprocess.align_sentences`** takes three arguments: `source_sentences`, `target_sentences`, and `model`.\n",
    "\n",
    "1. The model encodes both the source and target sentences into dense vector representations.\n",
    "2. A cosine similarity matrix is computed between each pair of source and target sentences.\n",
    "3. For each source sentence, the function selects the best-matching target sentence along with its similarity score."
   ]
  },
  {
   "cell_type": "code",
   "execution_count": 14,
   "id": "9a33c697",
   "metadata": {},
   "outputs": [
    {
     "name": "stdout",
     "output_type": "stream",
     "text": [
      "Matching en to pt\n"
     ]
    },
    {
     "data": {
      "text/html": [
       "<div>\n",
       "<style scoped>\n",
       "    .dataframe tbody tr th:only-of-type {\n",
       "        vertical-align: middle;\n",
       "    }\n",
       "\n",
       "    .dataframe tbody tr th {\n",
       "        vertical-align: top;\n",
       "    }\n",
       "\n",
       "    .dataframe thead th {\n",
       "        text-align: right;\n",
       "    }\n",
       "</style>\n",
       "<table border=\"1\" class=\"dataframe\">\n",
       "  <thead>\n",
       "    <tr style=\"text-align: right;\">\n",
       "      <th></th>\n",
       "      <th>source</th>\n",
       "      <th>target</th>\n",
       "      <th>score</th>\n",
       "    </tr>\n",
       "  </thead>\n",
       "  <tbody>\n",
       "    <tr>\n",
       "      <th>0</th>\n",
       "      <td>Hello World.</td>\n",
       "      <td>Olá, mundo.</td>\n",
       "      <td>0.976401</td>\n",
       "    </tr>\n",
       "    <tr>\n",
       "      <th>1</th>\n",
       "      <td>How are you?</td>\n",
       "      <td>Como você está?</td>\n",
       "      <td>0.992821</td>\n",
       "    </tr>\n",
       "  </tbody>\n",
       "</table>\n",
       "</div>"
      ],
      "text/plain": [
       "         source           target     score\n",
       "0  Hello World.      Olá, mundo.  0.976401\n",
       "1  How are you?  Como você está?  0.992821"
      ]
     },
     "execution_count": 14,
     "metadata": {},
     "output_type": "execute_result"
    }
   ],
   "source": [
    "from docutrance.preprocess import align_sentences\n",
    "from sentence_transformers import SentenceTransformer\n",
    "import pandas as pd\n",
    "import random\n",
    "\n",
    "\n",
    "languages = list(sentences.keys())\n",
    "source, target = random.sample(languages, 2)\n",
    "model = SentenceTransformer('paraphrase-multilingual-mpnet-base-v2')\n",
    "\n",
    "print(f\"Matching {source} to {target}\")\n",
    "pd.DataFrame.from_dict(align_sentences(\n",
    "    sentences[source],\n",
    "    sentences[target],\n",
    "    model\n",
    "))"
   ]
  },
  {
   "cell_type": "markdown",
   "id": "fd7e9931",
   "metadata": {},
   "source": [
    "The function **`docutrance.preprocess.align_sentences_process`** is hard-coded for  corpus structure defined in this notebook. It processes the data section by section and language by language, producing a separate dataframe for each section–language pair. Once all subsets are processed, the intermediate dataframes are concatenated into a single final output.\n",
    "\n",
    "The function takes two arguments:\n",
    "\n",
    "- **`io_paths`**: A dictionary containing paths for the input corpus and the final output file.\n",
    "- **`model`**: A multilingual sentence embedding model used to align sentences between languages.\n"
   ]
  },
  {
   "cell_type": "code",
   "execution_count": 40,
   "id": "ddaed1fa",
   "metadata": {},
   "outputs": [
    {
     "name": "stdout",
     "output_type": "stream",
     "text": [
      "Initializing UD Tokenizer for ['en', 'es', 'fr', 'it', 'pt']. . .\n",
      "Already downloaded a model for the 'en' language\n",
      "Already downloaded a model for the 'es' language\n",
      "Already downloaded a model for the 'fr' language\n",
      "Already downloaded a model for the 'it' language\n",
      "Already downloaded a model for the 'pt' language\n"
     ]
    },
    {
     "data": {
      "application/vnd.jupyter.widget-view+json": {
       "model_id": "85ba37328b1c4c8e82b3be8eb589675a",
       "version_major": 2,
       "version_minor": 0
      },
      "text/plain": [
       "Aligning sections:   0%|          | 0/107 [00:00<?, ?it/s]"
      ]
     },
     "metadata": {},
     "output_type": "display_data"
    },
    {
     "name": "stdout",
     "output_type": "stream",
     "text": [
      "Combined intermediate outputs. Saved to ..\\data\\tables\\core_competencies.parquet\n"
     ]
    }
   ],
   "source": [
    "from docutrance.preprocess import align_core_competencies\n",
    "from sentence_transformers import SentenceTransformer\n",
    "from pathlib import Path\n",
    "\n",
    "data = Path('../data')\n",
    "\n",
    "io_paths = {\n",
    "    \"corpus\": data / \"corpora\" / \"core_competencies.json\",\n",
    "    \"output\": data / \"tables\" / \"core_competencies.parquet\"\n",
    "}\n",
    "\n",
    "model = SentenceTransformer('paraphrase-multilingual-mpnet-base-v2')\n",
    "\n",
    "align_core_competencies(\n",
    "    io_paths,\n",
    "    model\n",
    ")"
   ]
  },
  {
   "cell_type": "markdown",
   "id": "ef643c61",
   "metadata": {},
   "source": [
    "## Evaluation\n",
    "\n",
    "Now the the sentences have been aligned, the final steps are to evaluate the data and identify shortcomings that need to be adressed before training.\n",
    "\n",
    "### Santity Check\n",
    "\n",
    "Start by loading the data and exploring its contents."
   ]
  },
  {
   "cell_type": "code",
   "execution_count": 9,
   "id": "6f2fffe0",
   "metadata": {},
   "outputs": [
    {
     "data": {
      "text/html": [
       "<div>\n",
       "<style scoped>\n",
       "    .dataframe tbody tr th:only-of-type {\n",
       "        vertical-align: middle;\n",
       "    }\n",
       "\n",
       "    .dataframe tbody tr th {\n",
       "        vertical-align: top;\n",
       "    }\n",
       "\n",
       "    .dataframe thead th {\n",
       "        text-align: right;\n",
       "    }\n",
       "</style>\n",
       "<table border=\"1\" class=\"dataframe\">\n",
       "  <thead>\n",
       "    <tr style=\"text-align: right;\">\n",
       "      <th></th>\n",
       "      <th>section_id</th>\n",
       "      <th>target_language</th>\n",
       "      <th>english_header</th>\n",
       "      <th>english_sentence</th>\n",
       "      <th>non_english_header</th>\n",
       "      <th>non_english_sentence</th>\n",
       "      <th>similarity_score</th>\n",
       "    </tr>\n",
       "  </thead>\n",
       "  <tbody>\n",
       "    <tr>\n",
       "      <th>0</th>\n",
       "      <td>0-1</td>\n",
       "      <td>es</td>\n",
       "      <td>Introduction to the Core Competencies Manual o...</td>\n",
       "      <td>The Ericksonian approach to therapy represents...</td>\n",
       "      <td>Introduzione al Manuale per le Competenze Chia...</td>\n",
       "      <td>El abordaje terapéutico Ericksoniano, represen...</td>\n",
       "      <td>0.955194</td>\n",
       "    </tr>\n",
       "    <tr>\n",
       "      <th>1</th>\n",
       "      <td>0-1</td>\n",
       "      <td>es</td>\n",
       "      <td>Introduction to the Core Competencies Manual o...</td>\n",
       "      <td>People who identify themselves as being an Eri...</td>\n",
       "      <td>Introduzione al Manuale per le Competenze Chia...</td>\n",
       "      <td>Personas que se identifican a sí mismos siendo...</td>\n",
       "      <td>0.900950</td>\n",
       "    </tr>\n",
       "    <tr>\n",
       "      <th>2</th>\n",
       "      <td>0-1</td>\n",
       "      <td>es</td>\n",
       "      <td>Introduction to the Core Competencies Manual o...</td>\n",
       "      <td>The Milton H. Erickson Foundation, Inc. was in...</td>\n",
       "      <td>Introduzione al Manuale per le Competenze Chia...</td>\n",
       "      <td>La fundación M. Erickson fue creada el 29 de O...</td>\n",
       "      <td>0.795812</td>\n",
       "    </tr>\n",
       "    <tr>\n",
       "      <th>3</th>\n",
       "      <td>0-1</td>\n",
       "      <td>es</td>\n",
       "      <td>Introduction to the Core Competencies Manual o...</td>\n",
       "      <td>To this end, the Foundation provides ongoing e...</td>\n",
       "      <td>Introduzione al Manuale per le Competenze Chia...</td>\n",
       "      <td>Desde Milton Erickson hasta la fecha, la Funda...</td>\n",
       "      <td>0.854311</td>\n",
       "    </tr>\n",
       "    <tr>\n",
       "      <th>4</th>\n",
       "      <td>0-1</td>\n",
       "      <td>es</td>\n",
       "      <td>Introduction to the Core Competencies Manual o...</td>\n",
       "      <td>In addition to the work of the Erickson Founda...</td>\n",
       "      <td>Introduzione al Manuale per le Competenze Chia...</td>\n",
       "      <td>Se agrega al trabajo de la Fundación de Ericks...</td>\n",
       "      <td>0.970191</td>\n",
       "    </tr>\n",
       "  </tbody>\n",
       "</table>\n",
       "</div>"
      ],
      "text/plain": [
       "  section_id target_language  \\\n",
       "0        0-1              es   \n",
       "1        0-1              es   \n",
       "2        0-1              es   \n",
       "3        0-1              es   \n",
       "4        0-1              es   \n",
       "\n",
       "                                      english_header  \\\n",
       "0  Introduction to the Core Competencies Manual o...   \n",
       "1  Introduction to the Core Competencies Manual o...   \n",
       "2  Introduction to the Core Competencies Manual o...   \n",
       "3  Introduction to the Core Competencies Manual o...   \n",
       "4  Introduction to the Core Competencies Manual o...   \n",
       "\n",
       "                                    english_sentence  \\\n",
       "0  The Ericksonian approach to therapy represents...   \n",
       "1  People who identify themselves as being an Eri...   \n",
       "2  The Milton H. Erickson Foundation, Inc. was in...   \n",
       "3  To this end, the Foundation provides ongoing e...   \n",
       "4  In addition to the work of the Erickson Founda...   \n",
       "\n",
       "                                  non_english_header  \\\n",
       "0  Introduzione al Manuale per le Competenze Chia...   \n",
       "1  Introduzione al Manuale per le Competenze Chia...   \n",
       "2  Introduzione al Manuale per le Competenze Chia...   \n",
       "3  Introduzione al Manuale per le Competenze Chia...   \n",
       "4  Introduzione al Manuale per le Competenze Chia...   \n",
       "\n",
       "                                non_english_sentence  similarity_score  \n",
       "0  El abordaje terapéutico Ericksoniano, represen...          0.955194  \n",
       "1  Personas que se identifican a sí mismos siendo...          0.900950  \n",
       "2  La fundación M. Erickson fue creada el 29 de O...          0.795812  \n",
       "3  Desde Milton Erickson hasta la fecha, la Funda...          0.854311  \n",
       "4  Se agrega al trabajo de la Fundación de Ericks...          0.970191  "
      ]
     },
     "execution_count": 9,
     "metadata": {},
     "output_type": "execute_result"
    }
   ],
   "source": [
    "#Loads the processed dataframe and prints the first five rows.\n",
    "import pandas as pd\n",
    "\n",
    "\n",
    "file = '../data/tables/core_competencies.parquet'\n",
    "df = pd.read_parquet(file)\n",
    "df.head(5)"
   ]
  },
  {
   "cell_type": "code",
   "execution_count": 12,
   "id": "59f13ab9",
   "metadata": {},
   "outputs": [
    {
     "name": "stdout",
     "output_type": "stream",
     "text": [
      "en-es\n",
      "english_header: \tCORE COMPETENCIES SCALES (CCS-6)\n",
      "non_english_header: \tÉCHELLES DE COMPÉTENCES FONDAMENTALES (ECF-6)\n",
      "english_sentence: \tRelatively high covariance between subjects ( = .76) suggests t. . .\n",
      "non_english_sentence: \tLa covariance relativement élevée entre les sujets (= 0,76) sugg. . .\n",
      "similarity_score: \t0.9329991340637207\n",
      "\n",
      "en-fr\n",
      "english_header: \tDESTABILIZATION: A readiness to disrupt stable psychological pat. . .\n",
      "non_english_header: \tDESESTABILIZACIÓN: Disposición a interrumpir patrones psicológic. . .\n",
      "english_sentence: \tFor additional effect, the therapist might add, “You wanted to b. . .\n",
      "non_english_sentence: \tPara un efecto adicional, el terapeuta puede agregar “Ud. quiere. . .\n",
      "similarity_score: \t0.8467073440551758\n",
      "\n",
      "en-it\n",
      "english_header: \tGlossary of Ericksonian Terminology\n",
      "non_english_header: \tGLOSSAIRE DE LA TERMINOLOGIE ÉRICKSONIENNE\n",
      "english_sentence: \tTracking –\n",
      "non_english_sentence: \tT Tracking11 — Forme de retour d'information verbale qui décrit . . .\n",
      "similarity_score: \t0.5226679444313049\n",
      "\n",
      "en-pt\n",
      "english_header: \tNATURALISTIC: A readiness create the expectation that change wil. . .\n",
      "non_english_header: \tAPPROCCIO NATURALISTICO: Propensione a creare l’aspettativa che . . .\n",
      "english_sentence: \tEstablished a cause-and-effect relationship without arousing con. . .\n",
      "non_english_sentence: \tStabilire una relazione causa-effetto senza stimolare un’indagin. . .\n",
      "similarity_score: \t0.9509377479553223\n",
      "\n"
     ]
    }
   ],
   "source": [
    "#Selects a random example from each language subset and prints the contents.\n",
    "import random\n",
    "\n",
    "for lang, subset in df.groupby('target_language'):\n",
    "    idx = random.choice(df.index)\n",
    "    print(f\"en-{lang}\")\n",
    "    for column in [\"english_header\", \"non_english_header\", \"english_sentence\", \"non_english_sentence\", \"similarity_score\"]:\n",
    "        value = str(df.loc[idx, column])\n",
    "        value = value[:64] + '. . .' if len(value) > 64 else value\n",
    "        print(f\"{column}: \\t{value}\")\n",
    "    print()\n",
    "    "
   ]
  },
  {
   "cell_type": "markdown",
   "id": "bf636395",
   "metadata": {},
   "source": [
    "### Cleansing\n",
    "\n",
    "A superficial examination of the data suggest that it is in good shape. The next step is cleansing, which involves a deeper analysis of data quality and filtering out problematic rows.\n",
    "\n",
    "Cleansing focuses on five features: `duplicate rows`, `mismatched sentence lengths`, `underlength sentences`, `low similarity scores`, and `overlength sentences`.\n",
    "\n",
    "#### Duplicate Rows\n",
    "\n",
    "The sentence alignment algorithm chooses the best-match non-English sentence for each English sentence. Therefore, the same non-English sentence is matched to many different English sentences.\n",
    "\n",
    "We will use the function, `docutrance.preprocess.preprocess_core_competencies`, which is designed specefically for this dataset. Given the raw dataset, it will deduplicate both the English and non-English sentence columns, keeping only the best match pairing."
   ]
  },
  {
   "cell_type": "code",
   "execution_count": 15,
   "id": "9501cfb1",
   "metadata": {},
   "outputs": [
    {
     "name": "stdout",
     "output_type": "stream",
     "text": [
      "Raw Dataset: 7379 rows\n",
      "Deduplicated: 5848 rows\n",
      "\n",
      "|       |   similarity_score |\n",
      "|-------|--------------------|\n",
      "| count |        5848        |\n",
      "| mean  |           0.896683 |\n",
      "| std   |           0.081781 |\n",
      "| min   |           0.298372 |\n",
      "| 25%   |           0.859458 |\n",
      "| 50%   |           0.920699 |\n",
      "| 75%   |           0.955866 |\n",
      "| max   |           1        |\n"
     ]
    },
    {
     "data": {
      "text/plain": [
       "array([[<Axes: title={'center': 'similarity_score'}>]], dtype=object)"
      ]
     },
     "execution_count": 15,
     "metadata": {},
     "output_type": "execute_result"
    },
    {
     "data": {
      "image/png": "[encoded data removed]",
      "text/plain": [
       "<Figure size 600x300 with 1 Axes>"
      ]
     },
     "metadata": {},
     "output_type": "display_data"
    }
   ],
   "source": [
    "from tabulate import tabulate\n",
    "from docutrance.preprocess import preprocess_core_competencies\n",
    "\n",
    "file = '../data/tables/core_competencies.parquet'\n",
    "df = pd.read_parquet(file)\n",
    "results = preprocess_core_competencies(df)\n",
    "\n",
    "print(\"Raw Dataset:\", len(df), \"rows\")\n",
    "print(\"Deduplicated:\", len(results), \"rows\")\n",
    "print()\n",
    "\n",
    "print(tabulate(results.describe(), headers='keys', tablefmt='github'))\n",
    "df.hist('similarity_score', bins=10, figsize=(6, 3))"
   ]
  },
  {
   "cell_type": "markdown",
   "id": "decbe15d",
   "metadata": {},
   "source": [
    "Deduplication reduces the dataset size by about 20%. The remaining examples are strongly matched, with the mean similarity score at nearly 0.9 and only an outlying minority below 0.4.\n",
    "\n",
    "\n",
    "#### Mismatched Sentence Lengths\n",
    "\n",
    "Differences in formatting and tokenizer behavior between the original document and its translations led to inconsistent sentence segmentation. Beyond a certain threshold, these inconsistently segmented sentences no longer make viable training pairs.\n",
    "\n",
    "To quantify this, the `relative length difference` is calculated by dividing the absolute difference in token sequence lengths by their average. This normalization magnifies length mismatches in shorter sequences and diminishes them in longer ones.\n",
    "\n",
    "The working hypothesis is that a larger relative length difference indicates poor sentence alignment. Accordingly, the quality of the training data is assessed by progressively removing sentence pairs with increasingly large relative length differences.\n",
    "\n",
    "The function `docutrance.preprocess.analyze_len_difference_similarity` visualizes the change:"
   ]
  },
  {
   "cell_type": "code",
   "execution_count": 17,
   "id": "7ba1483b",
   "metadata": {},
   "outputs": [
    {
     "data": {
      "image/png": "[encoded data removed]",
      "text/plain": [
       "<Figure size 600x300 with 1 Axes>"
      ]
     },
     "metadata": {},
     "output_type": "display_data"
    },
    {
     "name": "stdout",
     "output_type": "stream",
     "text": [
      "| Max Relative Len Diff   |   Avg Similarity |   Data Retained (%) |\n",
      "|-------------------------|------------------|---------------------|\n",
      "| -                       |           0.8967 |              100    |\n",
      "| 1.0                     |           0.9021 |               96.46 |\n",
      "| 0.9                     |           0.9027 |               95.98 |\n",
      "| 0.8                     |           0.9039 |               95.02 |\n",
      "| 0.7                     |           0.905  |               94.2  |\n",
      "| 0.6                     |           0.9067 |               92.36 |\n",
      "| 0.5                     |           0.9088 |               89.79 |\n",
      "| 0.4                     |           0.9112 |               85.38 |\n",
      "| 0.3                     |           0.9128 |               78.76 |\n",
      "| 0.2                     |           0.9166 |               63.13 |\n",
      "| 0.1                     |           0.9179 |               36.17 |\n"
     ]
    }
   ],
   "source": [
    "from docutrance.preprocess import analyze_len_difference_vs_similarity\n",
    "import pandas as pd\n",
    "\n",
    "    \n",
    "df = pd.read_parquet('../data/tables/core_competencies.parquet')\n",
    "analyze_len_difference_vs_similarity(df)\n"
   ]
  },
  {
   "cell_type": "markdown",
   "id": "cd954c50",
   "metadata": {},
   "source": [
    "When enforcing a maximum length difference, **average similarity** climbs gradually.\n",
    "\n",
    "However, this comes at a cost—**data retention drops sharply** once the threshold falls below **0.5**.\n",
    "\n",
    "#### Underlength Sentences\n",
    "\n",
    "During tokenization, some formatting artifacts, such as list markers, page dividers, and common headings, were extracted as standalone sentences. These segments are often paired incorrectly, despite recieving a relatively high similarity score. Even when correctly aligned, these minimal fragments are usually trivial for the baseline model to interpret, making them uninformative for training.\n",
    "\n",
    "The following code block displays examples with 1 to 5 tokens, illustrating how sequence quality improves once a minimum length threshold is enforced:"
   ]
  },
  {
   "cell_type": "code",
   "execution_count": 9,
   "id": "3fd64ac5",
   "metadata": {},
   "outputs": [
    {
     "name": "stdout",
     "output_type": "stream",
     "text": [
      "Examples with 1 tokens:\n",
      "\n",
      "| english_sentence   | non_english_sentence   |   similarity_score |\n",
      "|--------------------|------------------------|--------------------|\n",
      "| II.                | II.                    |           1        |\n",
      "| Naturalistic:      | Naturalistico:         |           0.935369 |\n",
      "| Reliability        | Confiabilidade         |           0.856927 |\n",
      "| II.                | 2.                     |           0.847311 |\n",
      "| 1                  | 1                      |           1        |\n",
      "\n",
      "Examples with 5 tokens:\n",
      "\n",
      "| english_sentence                                  | non_english_sentence                                |   similarity_score |\n",
      "|---------------------------------------------------|-----------------------------------------------------|--------------------|\n",
      "| The qualitative information is optional.          | Les informations qualitatives sont facultatives. 3. |           0.789834 |\n",
      "| The qualitative information is optional.          | La información cualitativa es opcional 3.           |           0.768412 |\n",
      "| Seemed to rush to conclusions.                    | Parecia apressar-se a conclusões.                   |           0.920533 |\n",
      "| Ignored the client’s immediate behavior.          | Ignorou o comportamento imediato de o cliente.      |           0.923931 |\n",
      "| Passive Influence Proactive Influence OBSERVATION | Influenza Passiva Influenza Proattiva OSSERVAZIONE  |           0.666217 |\n",
      "\n"
     ]
    }
   ],
   "source": [
    "from docutrance.preprocess import preprocess_core_competencies\n",
    "import pandas as pd\n",
    "\n",
    "# Load the DataFrame with token lists and the relative length differences.\n",
    "file = '../data/tables/core_competencies.parquet'\n",
    "df = pd.read_parquet('../data/tables/core_competencies.parquet')\n",
    "filters = [\n",
    "    lambda df: df.relative_len_diff <= 0.5\n",
    "]\n",
    "\n",
    "\n",
    "results = preprocess_core_competencies(\n",
    "    df,\n",
    "    filters = filters,\n",
    "    remove_intermediate_columns= False\n",
    ")\n",
    "\n",
    "print_columns = [\n",
    "    'english_sentence', \n",
    "    'non_english_sentence',\n",
    "    'similarity_score'\n",
    "    ]\n",
    "for n in [1, 5]:\n",
    "    subset = results[results.english_words.apply(lambda x: len(x) == n)][print_columns].sample(5)\n",
    "    print(f\"Examples with {n} tokens:\")\n",
    "    print()\n",
    "    print(tabulate(\n",
    "        subset, \n",
    "        headers='keys',\n",
    "        showindex=False, \n",
    "        tablefmt='github'\n",
    "        ))\n",
    "    print()"
   ]
  },
  {
   "cell_type": "markdown",
   "id": "cc3116ab",
   "metadata": {},
   "source": [
    "#### Misaligned Sentences\n",
    "\n",
    "Sentence pairs with similarity scores below a certain threshold are likely to be misaligned and should be withheld from training. However, this must be done with care. While correctly aligned pairs with high similarity scores help anchor the model to the ground truth, they offer limited learning value. In contrast, correctly aligned pairs with low similarity scores represent the best opportunity for the model to learn novel or difficult relationships.\n",
    "\n",
    "For this iteration, a minimum similarity threshold of 0.7 was heuristically chosen. In a future update, this dataset will undergo human review to validate alignments and refine threshold selection."
   ]
  },
  {
   "cell_type": "code",
   "execution_count": 18,
   "id": "4cdfaba6",
   "metadata": {},
   "outputs": [
    {
     "name": "stdout",
     "output_type": "stream",
     "text": [
      "Score: 0.5007\n",
      "\n",
      "English: PsyD. Entitled Current Research and Thinking in Brief\n",
      "non-English: Se le idee di il Dott.\n",
      "\n",
      "\n",
      "Score: 0.6939\n",
      "\n",
      "English: Most of the therapy discussion was confined to the office.\n",
      "non-English: La mayoría de las discusiones terapéuticas quedan reducidas al consultorio.\n",
      "\n",
      "\n",
      "Score: 0.7421\n",
      "\n",
      "English: It is not an easy place to work, and needs always exceed resources, but finding ways to make thing happen, and happen well takes a special kind of person.”\n",
      "non-English: No es un lugar fácil de trabajar, y las necesidades siempre superan los recursos, pero encontrar maneras de hacer que la cosa suceda, y suceda bien necesita un tipo especial de persona” Institutos: Cuando se formóla Fundacion Erickson, muchos institutos pequeños locales solicitaron permiso del Dr.\n",
      "\n",
      "\n"
     ]
    }
   ],
   "source": [
    "from docutrance.preprocess import preprocess_core_competencies\n",
    "import pandas as pd\n",
    "\n",
    "# Load the DataFrame with token lists and the relative length differences.\n",
    "file = '../data/tables/core_competencies.parquet'\n",
    "df = pd.read_parquet(file)\n",
    "filters = [\n",
    "    lambda df: df.relative_len_diff <= 0.5,\n",
    "    lambda df: df.english_sentence.apply(len) > 4,\n",
    "    lambda df: df.non_english_sentence.apply(len) > 4,\n",
    "]\n",
    "\n",
    "\n",
    "results = preprocess_core_competencies(\n",
    "    df,\n",
    "    filters = filters,\n",
    "    remove_intermediate_columns= False\n",
    ")\n",
    "\n",
    "\n",
    "for n in [0.5, 0.6, 0.7]:\n",
    "   for _, row in results[results.similarity_score.between(n, n+0.1)].sample(1).iterrows():\n",
    "      \n",
    "      print(\"Score:\", round(row.similarity_score, 4))\n",
    "      print()\n",
    "      print(\"English:\", row['english_sentence'])\n",
    "      print(\"non-English:\", row['non_english_sentence'])\n",
    "      print()\n",
    "   print()\n"
   ]
  },
  {
   "cell_type": "markdown",
   "id": "1486ec40",
   "metadata": {},
   "source": [
    "#### Overlength Sentences\n",
    "\n",
    "The final consideration is the length of tokenized sequences relative to the model’s input constraints. The target model has a maximum context window of 128 tokens. Fortunately, analysis shows that most sequences fall well below this limit. Outlier sequences that exceed the maximum length will be excluded from the training set."
   ]
  },
  {
   "cell_type": "code",
   "execution_count": 19,
   "id": "eaf59cd3",
   "metadata": {},
   "outputs": [
    {
     "name": "stderr",
     "output_type": "stream",
     "text": [
      "Token indices sequence length is longer than the specified maximum sequence length for this model (203 > 128). Running this sequence through the model will result in indexing errors\n"
     ]
    },
    {
     "name": "stdout",
     "output_type": "stream",
     "text": [
      "\n",
      "|       |   english_sequence_length |   non_english_sequence_length |\n",
      "|-------|---------------------------|-------------------------------|\n",
      "| count |                 5200      |                     5200      |\n",
      "| mean  |                   31.3144 |                       35.6779 |\n",
      "| std   |                   15.1259 |                       17.6619 |\n",
      "| min   |                    2      |                        2      |\n",
      "| 25%   |                   21      |                       24      |\n",
      "| 50%   |                   29      |                       33      |\n",
      "| 75%   |                   38      |                       44      |\n",
      "| max   |                  203      |                      260      |\n"
     ]
    }
   ],
   "source": [
    "from docutrance.preprocess import preprocess_core_competencies\n",
    "import pandas as pd\n",
    "from sentence_transformers import SentenceTransformer\n",
    "\n",
    "# Load the DataFrame with token lists and the relative length differences.\n",
    "file = '../data/tables/core_competencies.parquet'\n",
    "df = pd.read_parquet('../data/tables/core_competencies.parquet')\n",
    "model = SentenceTransformer('paraphrase-multilingual-mpnet-base-v2')\n",
    "filters = [\n",
    "    lambda df: df.relative_len_diff <= 0.5,\n",
    "    lambda df: df.english_sentence.apply(len) > 4,\n",
    "    lambda df: df.non_english_sentence.apply(len) > 4,\n",
    "    lambda df: df.similarity_score >= 0.7\n",
    "]\n",
    "\n",
    "results= preprocess_core_competencies(\n",
    "    results,\n",
    "    model=model,\n",
    "    filters=filters,\n",
    "    remove_intermediate_columns=False\n",
    ")\n",
    "\n",
    "get_token_len = lambda column: results[column].apply(lambda x: len(x))\n",
    "results['english_sequence_length'] = get_token_len('english_tokens')\n",
    "results['non_english_sequence_length'] = get_token_len('non_english_tokens')\n",
    "\n",
    "print()\n",
    "print(tabulate(\n",
    "    results[['english_sequence_length', 'non_english_sequence_length']].describe(),\n",
    "    headers='keys',\n",
    "    tablefmt='github'))"
   ]
  },
  {
   "cell_type": "markdown",
   "id": "52f58349",
   "metadata": {},
   "source": [
    "## Final Considerations\n",
    "\n",
    "The final analysis shows how much data was lost to cleansing and checks the balance by language."
   ]
  },
  {
   "cell_type": "code",
   "execution_count": 20,
   "id": "11dbd05f",
   "metadata": {},
   "outputs": [
    {
     "name": "stderr",
     "output_type": "stream",
     "text": [
      "Token indices sequence length is longer than the specified maximum sequence length for this model (203 > 128). Running this sequence through the model will result in indexing errors\n"
     ]
    },
    {
     "name": "stdout",
     "output_type": "stream",
     "text": [
      "\n",
      "Raw Dataset: 7379 rows\n",
      "Filtered Dataset: 5192 rows\n",
      "Data retained: 70.36%\n",
      "\n",
      "| Language   |   Examples |\n",
      "|------------|------------|\n",
      "| es         |       1236 |\n",
      "| fr         |       1314 |\n",
      "| it         |       1409 |\n",
      "| pt         |       1233 |\n"
     ]
    }
   ],
   "source": [
    "from docutrance.preprocess import preprocess_core_competencies\n",
    "import pandas as pd\n",
    "from sentence_transformers import SentenceTransformer\n",
    "\n",
    "file = '../data/tables/core_competencies.parquet'\n",
    "df = pd.read_parquet(file)\n",
    "model = SentenceTransformer('paraphrase-multilingual-mpnet-base-v2')\n",
    "filters = [\n",
    "    lambda df: df.relative_len_diff <= 0.5,\n",
    "    lambda df: df.english_sentence.apply(len) > 4,\n",
    "    lambda df: df.non_english_sentence.apply(len) > 4,\n",
    "    lambda df: df.similarity_score >= 0.7,\n",
    "    lambda df: df.english_tokens.apply(len) <= 128,\n",
    "    lambda df: df.non_english_tokens.apply(len) <= 128\n",
    "]\n",
    "\n",
    "results = preprocess_core_competencies(\n",
    "    df,\n",
    "    model=model,\n",
    "    filters=filters\n",
    ")\n",
    "\n",
    "print()\n",
    "\n",
    "print(\"Raw Dataset:\", f\"{len(df)} rows\")\n",
    "print(\"Filtered Dataset:\", f\"{len(results)} rows\")\n",
    "print(f\"Data retained: {len(results) / len(df) * 100:.2f}%\")\n",
    "print()\n",
    "print(tabulate(\n",
    "    results.groupby('target_language').agg({'english_sentence': 'count'}), \n",
    "    headers = ['Language', 'Examples'],\n",
    "    tablefmt='github'))"
   ]
  },
  {
   "cell_type": "markdown",
   "id": "9be1753f",
   "metadata": {},
   "source": [
    "Although 30% of the dataset was removed, the remaining data remains well balanced across languages. This is a positive sign, suggesting that the problematic features were evenly distributed rather than concentrated in one language."
   ]
  }
 ],
 "metadata": {
  "kernelspec": {
   "display_name": ".conda",
   "language": "python",
   "name": "python3"
  },
  "language_info": {
   "codemirror_mode": {
    "name": "ipython",
    "version": 3
   },
   "file_extension": ".py",
   "mimetype": "text/x-python",
   "name": "python",
   "nbconvert_exporter": "python",
   "pygments_lexer": "ipython3",
   "version": "3.10.16"
  }
 },
 "nbformat": 4,
 "nbformat_minor": 5
}
