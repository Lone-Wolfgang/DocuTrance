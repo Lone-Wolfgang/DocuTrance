{
 "cells": [
  {
   "cell_type": "markdown",
   "id": "3885f650",
   "metadata": {},
   "source": [
    "# Core Competencies of Ericksonian Therapy\n",
    "\n",
    "This notebook describes the preparation of the *Core Competencies* multilingual [dataset](https://huggingface.co/datasets/LoneWolfgang/ericksonian-core-competencies-multilingual).\n",
    "\n",
    "The *Core Competencies* is a training manual that explores the history and methodology of Ericksonian therapy. The original [English](https://iamdrshort.com/New_Papers/Core%20Competencies%20Manual%20R-2019.pdf) version has been translated into four languages:\n",
    " - [French](https://iamdrshort.com/New_Papers/Manuel%20des%20comp%C3%A9tences%20fondamentales%20en%20hypnose%20ericksonienne.pdf)\n",
    " - [Italian](https://iamdrshort.com/New_Papers/CCET_Italiano.pdf)\n",
    " - [Portuguese](https://iamdrshort.com/New_Papers/Princ%C3%ADpios%20e%20Compet%C3%AAncias%20Fundamentais%20da%20Terapia%20Ericksoniana%20(Primeira%20vers%C3%A3o).pdf)\n",
    " - [Spanish](https://iamdrshort.com/New_Papers/CCETl_ESPANOL.pdf)\n",
    "\n",
    "The manual has also been translated into [Indonesian](https://iamdrshort.com/New_Papers/CC_Indonesian_Translation.pdf). However, unlike the other translations, the Indonesian manual reorganizes the material and introduces original content. It remains to be seen whether portions of this version align more closely at the sentence level. Future updates may include Indonesian data.\n",
    "\n",
    "## Setup\n",
    "\n",
    "To follow along, you will need to install the purpose built Python package, `docutrance`. This will install depencies and some custom objects.\n",
    "\n",
    "```\n",
    "pip install docutrance\n",
    "```\n",
    "\n",
    "## Outline\n",
    "\n",
    "This notebook is divided into three sections:\n",
    "\n",
    "- **Section Alignment**  \n",
    "  This section explains how content and headers were manually extracted from the raw material and organized into a structured corpus JSON file.\n",
    "\n",
    "- **Sentence Alignment**  \n",
    "  This section describes how a multilingual sentence embedder was used to automatically align sentences across languages, proceeding section by section.\n",
    "\n",
    "- **Evaluation**  \n",
    "  This section outlines the contents of the dataset and highlights current shortcomings that may need to be addressed in downstream tasks.\n",
    "\n",
    "## Section Alignment\n",
    "\n",
    "The *Core Competencies* manual was translated by teams of native speakers with expertise in Ericksonian therapy. Efforts were made to closely follow the structure of the original English version. However, natural differences in discourse structure across languages entail some divergence in sentence and paragraph organization. As a result, even high-quality translations require context-aware methods for accurate sentence alignment.\n",
    "\n",
    "To align sentences, we will use a multilingual SBERT model to encode and compare sentences via cosine similarity. Notably, the same model used for alignment will eventually be finetuned during training. This approach carries some risk: if the initial model produces poor alignments, its biases will persist through training. To mitigate this, we will leverage the document structure. Between translations, chapters and sections are perfectly aligned. Thus, sentence alignment will proceed section by section. This approach not only improves accuracy by narrowing the alignment context but also reduces memory usage.\n",
    "\n",
    "The contents of the *Core Competencies* were manually extracted and structured into into JSON:\n",
    "```\n",
    "{\n",
    "    \"section_id\": {\n",
    "        \"language\": {\n",
    "            \"header\": \"...\",\n",
    "            \"content\": \"...\"\n",
    "        },\n",
    "        ...\n",
    "    },\n",
    "}\n",
    "```\n",
    "\n",
    " - **section_id**: A string identifier representing the chapter and section (e.g., \"1-1\", \"2-3)\n",
    " - **language**: An ISO 639-1 language code—either 'en', 'fr', 'it', 'pt', or 'es'.\n",
    " - **header**: The section header extracted from the source document.\n",
    " - **contenut**: The full text content of the corresponding section."
   ]
  },
  {
   "cell_type": "code",
   "execution_count": 1,
   "id": "4b04e4f5",
   "metadata": {},
   "outputs": [
    {
     "name": "stdout",
     "output_type": "stream",
     "text": [
      "Sections: ['0-1', '0-2', '0-3', '0-4', '1-1', '1-2', '1-3', '1-4', '1-5', '2-1', '2-2', '2-3', '2-4', '2-5', '3-1', '3-2', '3-3', '3-4', '3-5', '3-6', '3-7', '4-1', '4-2', '4-3', '5-1', '5-2', '5-3'] \n",
      "\n",
      "Languages: ['en', 'es', 'fr', 'it', 'pt'] \n",
      "\n",
      "Entry for Section 3-4, Language fr:\n",
      "\n",
      "{\n",
      "  \"header\": \"STRATÉGIQUE : Disposition à créer un contexte de résolution de problèmes autoorganisé\",\n",
      "  \"content\": \"En plus de souligner l’importance d’accepter le caractère unique de chaque individu, la T. E. reconnaît également la conception innée des êtres humains en tant que créatures auto-organisées ou « bâtisseurs de vie ». Erickson pensait que les êtres humains étaient des organismes orientés vers la survie et la croissance, avec un besoin inné de maîtriser les expériences internes et externes de la vie. Il s’efforce donc de surmonter les obstacles et les défis tout en s’appuyant sur des connaissances organiques et sur l’apprentissage de toute une vie. Par conséquent, la T. E. part du principe que tous les individus ont un besoin élémentaire de rechercher les défis de leur choix, de s’efforcer d’atteindre des objectifs personnels significatifs, de construire un avenir préféré et d’exercer leur volonté personnelle en ce qui concerne leur identité, leurs relations et leur vision du monde. C’est ce que l’on appelle collectivement « l’autonomie ». Créer stratégiquement l’expérience de l’autoagencement implique de transférer la propriété du changement au client. C’est ce qui rend l’entreprise de résolution de problèmes transformationnelle. S’exprimant sur ce sujet, Erickson a expliqué qu’il y a un net « transfert du thérapeute au patient de tout le fardeau de la définition de la psychothérapie désirée et de la responsabilité de l’accepter ». Ainsi, le lieu de la résolution des problèmes thérapeutiques se trouve dans l’esprit et le corps du client. Tout succès obtenu grâce à la thérapie appartient alors légitimement au client plutôt qu’au thérapeute. Le thérapeute n’est pas censé résoudre les problèmes. Au contraire, il incombe au thérapeute de discerner comment faciliter le travail intérieur du client à l’aide d’un processus créatif qui se déroule sous la conscience. Comme l’explique Erickson, « … la verbalisation de leurs propres désirs, besoins et intentions au niveau de leurs propres cognitions inconscientes, force les objectifs thérapeutiques à devenir les propres objectifs du patient, et non ceux simplement proposés par le thérapeute qu’il visite ». Tout éveil d’une émotion, toute évocation d’un souvenir ou tout exercice d’imagination est conçu pour obtenir cet effet particulier. Tout au long du processus thérapeutique, le thérapeute sollicite un retour d’information suffisant pour déterminer l’effet obtenu. Parce que les idées spontanées du client sont créées intentionnellement, ce type particulier de contexte de résolution de problèmes est généralement appelé l’approche stratégique. Hypothèses centrales d’une approche stratégique Un certain nombre d’hypothèses centrales sous-tendent le processus de thérapie stratégique et régissent la prise de décision clinique et le comportement du thérapeute à l’égard du client. La connaissance de ces hypothèses permet au praticien d’agir en accord avec l’esprit de l’intervention plutôt que de reproduire mécaniquement des techniques établies. • Les clients sont plus enclins à changer lorsqu’ils voient leur monde sous l’angle de la possibilité et de l’espoir. • Les personnes changent et se développent en réponse aux défis • Les clients sont plus à même d’atteindre leurs objectifs qu’ils ne le pensent. • Les objectifs exprimés (intellectuels) des clients peuvent ne pas être aussi importants pour la thérapie que les objectifs exprimés qui sont implicites dans l’action et l’émotion. • Les personnes doivent développer leurs propres compétences en matière de résolution de problèmes afin de s’épanouir en dehors de la thérapie. • Les problèmes psychologiques sont souvent des problèmes de focalisation ; les gens se concentrent sur ce qui ne va pas et non sur ce qui va bien, ou ils se focalisent sur les raisons de leur malheur au lieu de se concentrer sur la construction d’un avenir meilleur. • La résolution des problèmes doit être axée sur l’avenir plutôt que sur le passé. • La motivation à suivre la thérapie est intégrée dans le processus d’identification des besoins profondément ressentis et d’encouragement des solutions uniques du client. • L’action interpersonnelle est considérée comme une source d’effets thérapeutiques Exemples pratiques de l’approche stratégique À quoi ressemble l’approche stratégique ? Rendre explicite le rôle du client en tant que principal agent du changement Preuve de la compétence Échec de mise en place de la compétence Explique au client qu’il détient la clé du changement ou que les réponses dont il a besoin seront trouvées à l’intérieur de lui-même (c.-à-d. l’attribution interne du changement). Le client demande au thérapeute de le faire changer de comportement et le thérapeute accepte. La majorité du temps de la thérapie est consacrée à des discussions sur la capacité du client à prendre des mesures pour résoudre le problème La majeure partie du temps de la thérapie est consacrée à la collecte des antécédents, à l’explication des possibilités de diagnostic ou à l’explication d’une philosophie de changement. Définition du rôle du client en tant que résolveur de problèmes et du rôle du thérapeute en tant que source de soutien (définition des rôles). Le thérapeute essaie d’aider le client en lui proposant des solutions. L’énergie de résolution des problèmes est orientée vers le problème le plus central ou le besoin le plus urgent, tel que défini par le client. Preuve de la compétence Échec de mise en place de la compétence Demander au client d’énoncer en termes clairs et concis ce qu’il considère comme le problème principal. Utilisation de tests ou d’autres procédures de diagnostic pour déterminer le problème clinique. Demande suffisamment de détails sur le problème, et donne la priorité à une compréhension précise, au point que le client peut être certain que le thérapeute connaît son problème et s’investit pour l’aider à le résoudre. Le thérapeute s’est empressé de tirer des conclusions ou a agi comme s’il en savait plus que le client sur son problème. Demande s’il y a d’autres choses qu’il devrait savoir pour que la thérapie soit efficace. Semble tirer des conclusions hâtives. Ne laisse pas suffisamment de temps au client pour explorer ses pensées. Cite des déclarations du client sur ce qu’il perçoit comme un problème. La thérapie est axée sur l’éducation du client au sujet de son problème. S’engage dans un processus visant à détecter les caractéristiques du problème qui existent en dehors de la conscience. La définition du problème se limite à ce dont le client est conscient. Susciter et renforcer la confiance dans les idées intuitives du client sur la manière de résoudre le problème présenté Preuve de la compétence Échec de mise en place de la compétence Demande au client de préciser ses objectifs et de les honorer (c.-à-d. de se concentrer sur l’avenir). La thérapie est centrée sur le passé et sur les raisons du problème. Aide à identifier et à intégrer les objectifs implicites dans les actions ou la communication du client (c.-à-d. les objectifs inconscients). La discussion sur les objectifs s’est limitée à ce dont le client était conscient Sollicite les idées du client sur la manière de cadrer les tâches thérapeutiques à l’intérieur et à l’extérieur du cabinet et coopère avec ces idées (engagement collaboratif). N’a pas réussi à susciter une résolution créative des problèmes de la part du client. Aide le client à élaborer des stratégies pour mettre en oeuvre ses solutions. Se concentre sur le travail émotionnel ou insiste sur une approche purement indirecte. Utilise l’individualité du client comme source d’inspiration pour trouver une solution à son problème unique. S’appuie sur des recherches ou des études de cas pour trouver des solutions possibles. Invite le client à préciser concrètement ce qu’il attend du thérapeute ou de la thérapie (c.-à-d. des pensées, des comportements ou des états émotionnels spécifiques à modifier). Dit au client ce qu’il doit accomplir, sans lui laisser le temps de préciser ses propres désirs, besoins et intentions/objectifs. Encourage le client à définir la thérapie qu’il pense être la plus efficace et se conforme clairement à la (aux) suggestion(s) du client sur la manière dont la thérapie pourrait se dérouler Ne sollicite pas les idées ou le retour d’information du client sur la manière dont la thérapie doit être menée. Reconnaît les instructions indirectes sur la manière dont la thérapie doit se dérouler et fait des efforts évidents pour s’y conformer (par exemple, client : « J’aimerais que ma mère m’écoute sans me donner de conseils ». Le thérapeute écoute, sans donner de conseils). N’utilise pas le retour d’information offert par le client. Encourage le client à avoir confiance en ses propres capacités. Assure au client que le thérapeute est capable de l’aider. Utilise les expériences de vie, les ressources et l’éducation uniques du client au cours du processus de résolution des problèmes, en transférant les compétences d’un domaine à l’autre (par exemple, travail/domicile). L’accent est mis sur l’enseignement de nouvelles compétences au client. Amélioration de la volonté du client d’agir en tant que principal agent du changement Preuve de la compétence Échec de mise en place de la compétence L’attention est portée sur les réalisations, les compétences et les atouts des clients. L’attention portée au traumatisme, à l’échec ou aux faiblesses du client. Divise le problème en plus petits morceaux pour qu’il paraisse moins écrasant (c.-à-d. partitionner). Tentative de résoudre trop de problèmes à la fois ou trop rapidement. Utilisation de points focaux émotionnels existants comme source de motivation (par exemple, une mère qui se déteste, mais qui aime son enfant est encouragée à travailler sur l’image de soi pour le bien de son enfant). Ne pas reconnaître que le client est déjà très motivé d’une manière ou d’une autre. Utilisation d’une échelle d’évaluation pour attirer l’attention sur l’évolution du symptôme dans le temps ou après un seul exercice (c.-à-d. l’échelle des symptômes). À des difficultés à aider le client à reconnaître les petits cas isolés de changement. Pose des questions qui impliquent la réussite (par exemple, « Saviez-vous que vous seriez capable de faire cela ? » ou « Vous rendez-vous compte que vous avez un bon instinct et que vous pouvez vous fier à cet instinct ?) Poser des questions qui impliquent des inquiétudes, des doutes ou de la méfiance à l’égard de ce que le client essaie d’accomplir. Fait quelque chose pour susciter le type d’émotion forte nécessaire pour catalyser l’action vers des objectifs thérapeutiques. La session a semblé fade ou émotionnellement plate. Sous-évalue intentionnellement la volonté de changement du client afin d’obtenir une réponse forte (par exemple, discuter de la date à laquelle le client commencera à travailler ou de l’ampleur du changement qu’il autorisera). A essayé de motiver le client à agir, mais a manifestement « exagéré » la volonté de changement du client, ce qui a entraîné un comportement contraire. Exprime de l’excitation ou de la joie avec le client lorsque des progrès sont réalisés (c.-à-d. harmonisation des affects). N’a pas réussi à faire résonner la joie du client. Décrit un processus plus difficile ou plus douloureux que le client devrait subir s’il ne souhaitait pas coopérer à la thérapie immédiate. N’a pas négocié avec le client les modalités de mise en oeuvre de la thérapie. Utilise le comportement contraire du client comme source de motivation dans un sens positif (par exemple, a soutenu que le client devrait conserver un certain pourcentage du comportement problématique). Rejette les comportements qui ne sont pas conformes au processus thérapeutique prescrit.\"\n",
      "}\n"
     ]
    }
   ],
   "source": [
    "from pathlib import Path\n",
    "import json\n",
    "import random\n",
    "\n",
    "\n",
    "path = '../data/corpora/core_competencies.json'\n",
    "load_json = lambda path: json.loads(Path(path).read_text())\n",
    "\n",
    "corpus = load_json(path)\n",
    "\n",
    "sections = list(corpus.keys())\n",
    "langs = list(corpus[sections[0]].keys())\n",
    "sample = random.choice(sections), random.choice(langs)\n",
    "\n",
    "print(\"Sections:\", sections, '\\n')\n",
    "print(\"Languages:\", langs, '\\n')\n",
    "print(f\"Entry for Section {sample[0]}, Language {sample[1]}:\\n\")\n",
    "print(json.dumps(corpus[sample[0]][sample[1]], indent=2, ensure_ascii=False))"
   ]
  },
  {
   "cell_type": "markdown",
   "id": "e35e18d9",
   "metadata": {},
   "source": [
    "## Sentence Alignment\n",
    "\n",
    "To perform sentence alignment, we first need to split paragraphs into individual sentences. However, sentence tokenization is not language-agnostic. Different languages require different rules and models to tokenize correctly. \n",
    "\n",
    "To handle this, we use a set of language-optimized tokenizers trained by [spaCy](https://spacy.io/universe/project/spacy-udpipe) as part of the Universal Dependencies (UD) project. These UD-based tokenizers are lightweight and performant when the language is explicitly defined.\n",
    "\n",
    "To simplify the implementation, we use the class **`docutrance.preprocess.UDSentenceTokenizer`**. Given a list of languages, this class automatically downloads the necessary language models and stores the tokenizers in memory for reuse."
   ]
  },
  {
   "cell_type": "code",
   "execution_count": null,
   "id": "5f367820",
   "metadata": {},
   "outputs": [
    {
     "name": "stdout",
     "output_type": "stream",
     "text": [
      "Initializing UD Tokenizer for ['en', 'es', 'fr', 'it', 'pt']. . .\n",
      "Already downloaded a model for the 'en' language\n",
      "Already downloaded a model for the 'es' language\n",
      "Already downloaded a model for the 'fr' language\n",
      "Already downloaded a model for the 'it' language\n",
      "Already downloaded a model for the 'pt' language\n",
      "\n",
      "en: ['Hello World.', 'How are you?']\n",
      "es: ['Hola mundo.', '¿Cómo estás?']\n",
      "fr: ['Bonjour tout le monde.', 'Comment allez-vous?']\n",
      "it: ['Ciao mondo.', 'Come stai?']\n",
      "pt: ['Olá, mundo.', 'Como você está?']\n"
     ]
    }
   ],
   "source": [
    "from docutrance.preprocess import UDSentenceTokenizer\n",
    "\n",
    "paragraphs = {\n",
    "    \"en\": \"Hello World. How are you?\",\n",
    "    \"es\": \"Hola mundo. ¿Cómo estás?\",\n",
    "    \"fr\": \"Bonjour tout le monde. Comment allez-vous?\",\n",
    "    \"it\": \"Ciao mondo. Come stai?\",\n",
    "    \"pt\": \"Olá, mundo. Como você está?\"\n",
    "}\n",
    "\n",
    "languages = list(paragraphs.keys())\n",
    "tokenizer = UDSentenceTokenizer(languages)\n",
    "\n",
    "sentences = {k: tokenizer.tokenize(k, v) for k,v in paragraphs.items()}\n",
    "\n",
    "print()\n",
    "for lang, sents in sentences.items():\n",
    "    print(f'{lang}:', sents)"
   ]
  },
  {
   "cell_type": "markdown",
   "id": "d484fa9c",
   "metadata": {},
   "source": [
    "To align sentences, we use the best-performing multilingual model from [SBERT](https://huggingface.co/sentence-transformers/paraphrase-multilingual-mpnet-base-v2).\n",
    "\n",
    "The function **`docutrance.preprocess.align_sentences`** takes three arguments: `source_sentences`, `target_sentences`, and `model`.\n",
    "\n",
    "1. The model encodes both the source and target sentences into dense vector representations.\n",
    "2. A cosine similarity matrix is computed between each pair of source and target sentences.\n",
    "3. For each source sentence, the function selects the best-matching target sentence along with its similarity score."
   ]
  },
  {
   "cell_type": "code",
   "execution_count": null,
   "id": "9a33c697",
   "metadata": {},
   "outputs": [
    {
     "name": "stdout",
     "output_type": "stream",
     "text": [
      "Matching en to it\n"
     ]
    },
    {
     "data": {
      "text/html": [
       "<div>\n",
       "<style scoped>\n",
       "    .dataframe tbody tr th:only-of-type {\n",
       "        vertical-align: middle;\n",
       "    }\n",
       "\n",
       "    .dataframe tbody tr th {\n",
       "        vertical-align: top;\n",
       "    }\n",
       "\n",
       "    .dataframe thead th {\n",
       "        text-align: right;\n",
       "    }\n",
       "</style>\n",
       "<table border=\"1\" class=\"dataframe\">\n",
       "  <thead>\n",
       "    <tr style=\"text-align: right;\">\n",
       "      <th></th>\n",
       "      <th>source</th>\n",
       "      <th>target</th>\n",
       "      <th>score</th>\n",
       "    </tr>\n",
       "  </thead>\n",
       "  <tbody>\n",
       "    <tr>\n",
       "      <th>0</th>\n",
       "      <td>Hello World.</td>\n",
       "      <td>Ciao mondo.</td>\n",
       "      <td>0.982399</td>\n",
       "    </tr>\n",
       "    <tr>\n",
       "      <th>1</th>\n",
       "      <td>How are you?</td>\n",
       "      <td>Come stai?</td>\n",
       "      <td>0.979604</td>\n",
       "    </tr>\n",
       "  </tbody>\n",
       "</table>\n",
       "</div>"
      ],
      "text/plain": [
       "         source       target     score\n",
       "0  Hello World.  Ciao mondo.  0.982399\n",
       "1  How are you?   Come stai?  0.979604"
      ]
     },
     "execution_count": 3,
     "metadata": {},
     "output_type": "execute_result"
    }
   ],
   "source": [
    "from docutrance.preprocess import align_sentences\n",
    "from sentence_transformers import SentenceTransformer\n",
    "import pandas as pd\n",
    "import random\n",
    "\n",
    "languages = list(sentences.keys())\n",
    "source, target = random.sample(languages, 2)\n",
    "model = SentenceTransformer('paraphrase-multilingual-mpnet-base-v2')\n",
    "\n",
    "print(f\"Matching {source} to {target}\")\n",
    "pd.DataFrame.from_dict(align_sentences(\n",
    "    sentences[source],\n",
    "    sentences[target],\n",
    "    model\n",
    "))"
   ]
  },
  {
   "cell_type": "markdown",
   "id": "fd7e9931",
   "metadata": {},
   "source": [
    "The function **`docutrance.preprocess.align_sentences_process`** is hard-coded for  corpus structure defined in this notebook. It processes the data section by section and language by language, producing a separate dataframe for each section–language pair. Once all subsets are processed, the intermediate dataframes are concatenated into a single final output.\n",
    "\n",
    "The function takes two arguments:\n",
    "\n",
    "- **`io_paths`**: A dictionary containing paths for the input corpus and the final output file.\n",
    "- **`model`**: A multilingual sentence embedding model used to align sentences between languages.\n"
   ]
  },
  {
   "cell_type": "code",
   "execution_count": 332,
   "id": "ddaed1fa",
   "metadata": {},
   "outputs": [
    {
     "name": "stdout",
     "output_type": "stream",
     "text": [
      "Initializing UD Tokenizer for ['en', 'es', 'fr', 'it', 'pt']. . .\n",
      "Already downloaded a model for the 'en' language\n",
      "Already downloaded a model for the 'es' language\n",
      "Already downloaded a model for the 'fr' language\n",
      "Already downloaded a model for the 'it' language\n",
      "Already downloaded a model for the 'pt' language\n",
      "Section 0-1, en-es is already finished. Continuing. . . \n",
      "Section 0-1, en-fr is already finished. Continuing. . . \n",
      "Section 0-1, en-it is already finished. Continuing. . . \n",
      "Section 0-1, en-pt is already finished. Continuing. . . \n",
      "Section 0-2, en-es is already finished. Continuing. . . \n",
      "Section 0-2, en-fr is already finished. Continuing. . . \n",
      "Section 0-2, en-it is already finished. Continuing. . . \n",
      "Section 0-2, en-pt is already finished. Continuing. . . \n",
      "Section 0-3, en-es is already finished. Continuing. . . \n",
      "Section 0-3, en-fr is already finished. Continuing. . . \n",
      "Section 0-3, en-it is already finished. Continuing. . . \n",
      "Section 0-3, en-pt is already finished. Continuing. . . \n",
      "Section 0-4, en-es is already finished. Continuing. . . \n",
      "Section 0-4, en-fr is already finished. Continuing. . . \n",
      "Section 0-4, en-it is already finished. Continuing. . . \n",
      "Section 0-4, en-pt is already finished. Continuing. . . \n",
      "Section 1-1, en-es is already finished. Continuing. . . \n",
      "Section 1-1, en-fr is already finished. Continuing. . . \n",
      "Section 1-1, en-it is already finished. Continuing. . . \n",
      "Section 1-1, en-pt is already finished. Continuing. . . \n",
      "Section 1-2, en-es is already finished. Continuing. . . \n",
      "Section 1-2, en-fr is already finished. Continuing. . . \n",
      "Section 1-2, en-it is already finished. Continuing. . . \n",
      "Section 1-2, en-pt is already finished. Continuing. . . \n",
      "Section 1-3, en-es is already finished. Continuing. . . \n",
      "Section 1-3, en-fr is already finished. Continuing. . . \n",
      "Section 1-3, en-it is already finished. Continuing. . . \n",
      "Section 1-3, en-pt is already finished. Continuing. . . \n",
      "Section 1-4, en-es is already finished. Continuing. . . \n",
      "Section 1-4, en-fr is already finished. Continuing. . . \n",
      "Section 1-4, en-it is already finished. Continuing. . . \n",
      "Section 1-4, en-pt is already finished. Continuing. . . \n",
      "Section 1-5, en-es is already finished. Continuing. . . \n",
      "Section 1-5, en-fr is already finished. Continuing. . . \n",
      "Section 1-5, en-it is already finished. Continuing. . . \n",
      "Section 1-5, en-pt is already finished. Continuing. . . \n",
      "Section 2-1, en-es is already finished. Continuing. . . \n",
      "Section 2-1, en-fr is already finished. Continuing. . . \n",
      "Section 2-1, en-it is already finished. Continuing. . . \n",
      "Section 2-1, en-pt is already finished. Continuing. . . \n",
      "Section 2-2, en-es is already finished. Continuing. . . \n",
      "Section 2-2, en-fr is already finished. Continuing. . . \n",
      "Section 2-2, en-it is already finished. Continuing. . . \n",
      "Section 2-2, en-pt is already finished. Continuing. . . \n",
      "Section 2-3, en-es is already finished. Continuing. . . \n",
      "Section 2-3, en-fr is already finished. Continuing. . . \n",
      "Section 2-3, en-it is already finished. Continuing. . . \n",
      "Section 2-3, en-pt is already finished. Continuing. . . \n",
      "Section 2-4, en-es is already finished. Continuing. . . \n",
      "Section 2-4, en-fr is already finished. Continuing. . . \n",
      "Section 2-4, en-it is already finished. Continuing. . . \n",
      "Section 2-4, en-pt is already finished. Continuing. . . \n",
      "Section 2-5, en-es is already finished. Continuing. . . \n",
      "Section 2-5, en-fr is already finished. Continuing. . . \n",
      "Section 2-5, en-it is already finished. Continuing. . . \n",
      "Section 2-5, en-pt is already finished. Continuing. . . \n",
      "Section 3-1, en-es is already finished. Continuing. . . \n",
      "Section 3-1, en-fr is already finished. Continuing. . . \n",
      "Section 3-1, en-it is already finished. Continuing. . . \n",
      "Section 3-1, en-pt is already finished. Continuing. . . \n",
      "Section 3-2, en-es is already finished. Continuing. . . \n",
      "Section 3-2, en-fr is already finished. Continuing. . . \n",
      "Section 3-2, en-it is already finished. Continuing. . . \n",
      "Section 3-2, en-pt is already finished. Continuing. . . \n",
      "Section 3-3, en-es is already finished. Continuing. . . \n",
      "Section 3-3, en-fr is already finished. Continuing. . . \n",
      "Section 3-3, en-it is already finished. Continuing. . . \n",
      "Section 3-3, en-pt is already finished. Continuing. . . \n",
      "Section 3-4, en-es is already finished. Continuing. . . \n",
      "Section 3-4, en-fr is already finished. Continuing. . . \n",
      "Section 3-4, en-it is already finished. Continuing. . . \n",
      "Section 3-4, en-pt is already finished. Continuing. . . \n",
      "Section 3-5, en-es is already finished. Continuing. . . \n",
      "Section 3-5, en-fr is already finished. Continuing. . . \n",
      "Section 3-5, en-it is already finished. Continuing. . . \n",
      "Section 3-5, en-pt is already finished. Continuing. . . \n",
      "Section 3-6, en-es is already finished. Continuing. . . \n",
      "Section 3-6, en-fr is already finished. Continuing. . . \n",
      "Section 3-6, en-it is already finished. Continuing. . . \n",
      "Section 3-6, en-pt is already finished. Continuing. . . \n",
      "Section 3-7, en-es is already finished. Continuing. . . \n",
      "Section 3-7, en-fr is already finished. Continuing. . . \n",
      "Section 3-7, en-it is already finished. Continuing. . . \n",
      "Section 3-7, en-pt is already finished. Continuing. . . \n",
      "Section 4-1, en-es is already finished. Continuing. . . \n",
      "Section 4-1, en-fr is already finished. Continuing. . . \n",
      "Section 4-1, en-it is already finished. Continuing. . . \n",
      "Section 4-1, en-pt is already finished. Continuing. . . \n",
      "Section 4-2, en-es is already finished. Continuing. . . \n",
      "Section 4-2, en-fr is already finished. Continuing. . . \n",
      "Section 4-2, en-it is already finished. Continuing. . . \n",
      "Section 4-2, en-pt is already finished. Continuing. . . \n",
      "Section 4-3, en-es is already finished. Continuing. . . \n",
      "Section 4-3, en-fr is already finished. Continuing. . . \n",
      "Section 4-3, en-it is already finished. Continuing. . . \n",
      "Section 4-3, en-pt is already finished. Continuing. . . \n",
      "Section 5-1, en-es is already finished. Continuing. . . \n",
      "Section 5-1, en-fr is already finished. Continuing. . . \n",
      "Section 5-1, en-it is already finished. Continuing. . . \n",
      "Section 5-1, en-pt is already finished. Continuing. . . \n",
      "Section 5-2, en-es is already finished. Continuing. . . \n",
      "Section 5-2, en-fr is already finished. Continuing. . . \n",
      "Section 5-2, en-it is already finished. Continuing. . . \n",
      "Section 5-2, en-pt is already finished. Continuing. . . \n",
      "Section 5-3, en-es is already finished. Continuing. . . \n",
      "Section 5-3, en-fr is already finished. Continuing. . . \n",
      "Section 5-3, en-it is already finished. Continuing. . . \n",
      "Combined intermediate outputs. Saved to ..\\data\\tables\\core_competencies.parquet\n"
     ]
    }
   ],
   "source": [
    "from docutrance.preprocess import align_sentences_process\n",
    "from sentence_transformers import SentenceTransformer\n",
    "from pathlib import Path\n",
    "\n",
    "data = Path('../data')\n",
    "\n",
    "io_paths = {\n",
    "    \"corpus\": data / \"corpora\" / \"core_competencies.json\",\n",
    "    \"output\": data / \"tables\" / \"core_competencies.parquet\"\n",
    "}\n",
    "\n",
    "model = SentenceTransformer('paraphrase-multilingual-mpnet-base-v2')\n",
    "\n",
    "\n",
    "align_sentences_process(\n",
    "    io_paths,\n",
    "    model\n",
    ")"
   ]
  },
  {
   "cell_type": "markdown",
   "id": "ef643c61",
   "metadata": {},
   "source": [
    "## Evaluation\n",
    "\n",
    "Now the the sentences have been aligned, the final steps are to evaluate the data and identify shortcomings that need to be adressed before training.\n",
    "\n",
    "### Santity Check\n",
    "\n",
    "Start by loading the data and exploring its contents."
   ]
  },
  {
   "cell_type": "code",
   "execution_count": 199,
   "id": "6f2fffe0",
   "metadata": {},
   "outputs": [
    {
     "data": {
      "text/html": [
       "<div>\n",
       "<style scoped>\n",
       "    .dataframe tbody tr th:only-of-type {\n",
       "        vertical-align: middle;\n",
       "    }\n",
       "\n",
       "    .dataframe tbody tr th {\n",
       "        vertical-align: top;\n",
       "    }\n",
       "\n",
       "    .dataframe thead th {\n",
       "        text-align: right;\n",
       "    }\n",
       "</style>\n",
       "<table border=\"1\" class=\"dataframe\">\n",
       "  <thead>\n",
       "    <tr style=\"text-align: right;\">\n",
       "      <th></th>\n",
       "      <th>section_id</th>\n",
       "      <th>target_language</th>\n",
       "      <th>english_header</th>\n",
       "      <th>english_sentence</th>\n",
       "      <th>non_english_header</th>\n",
       "      <th>non_english_sentence</th>\n",
       "      <th>similarity_score</th>\n",
       "    </tr>\n",
       "  </thead>\n",
       "  <tbody>\n",
       "    <tr>\n",
       "      <th>0</th>\n",
       "      <td>0-1</td>\n",
       "      <td>es</td>\n",
       "      <td>Introduction to the Core Competencies Manual o...</td>\n",
       "      <td>The Ericksonian approach to therapy represents...</td>\n",
       "      <td>Introduzione al Manuale per le Competenze Chia...</td>\n",
       "      <td>El abordaje terapéutico Ericksoniano, represen...</td>\n",
       "      <td>0.955194</td>\n",
       "    </tr>\n",
       "    <tr>\n",
       "      <th>1</th>\n",
       "      <td>0-1</td>\n",
       "      <td>es</td>\n",
       "      <td>Introduction to the Core Competencies Manual o...</td>\n",
       "      <td>People who identify themselves as being an Eri...</td>\n",
       "      <td>Introduzione al Manuale per le Competenze Chia...</td>\n",
       "      <td>Personas que se identifican a sí mismos siendo...</td>\n",
       "      <td>0.900950</td>\n",
       "    </tr>\n",
       "    <tr>\n",
       "      <th>2</th>\n",
       "      <td>0-1</td>\n",
       "      <td>es</td>\n",
       "      <td>Introduction to the Core Competencies Manual o...</td>\n",
       "      <td>The Milton H. Erickson Foundation, Inc. was in...</td>\n",
       "      <td>Introduzione al Manuale per le Competenze Chia...</td>\n",
       "      <td>La fundación M. Erickson fue creada el 29 de O...</td>\n",
       "      <td>0.795812</td>\n",
       "    </tr>\n",
       "    <tr>\n",
       "      <th>3</th>\n",
       "      <td>0-1</td>\n",
       "      <td>es</td>\n",
       "      <td>Introduction to the Core Competencies Manual o...</td>\n",
       "      <td>To this end, the Foundation provides ongoing e...</td>\n",
       "      <td>Introduzione al Manuale per le Competenze Chia...</td>\n",
       "      <td>Desde Milton Erickson hasta la fecha, la Funda...</td>\n",
       "      <td>0.854311</td>\n",
       "    </tr>\n",
       "    <tr>\n",
       "      <th>4</th>\n",
       "      <td>0-1</td>\n",
       "      <td>es</td>\n",
       "      <td>Introduction to the Core Competencies Manual o...</td>\n",
       "      <td>In addition to the work of the Erickson Founda...</td>\n",
       "      <td>Introduzione al Manuale per le Competenze Chia...</td>\n",
       "      <td>Se agrega al trabajo de la Fundación de Ericks...</td>\n",
       "      <td>0.970191</td>\n",
       "    </tr>\n",
       "  </tbody>\n",
       "</table>\n",
       "</div>"
      ],
      "text/plain": [
       "  section_id target_language  \\\n",
       "0        0-1              es   \n",
       "1        0-1              es   \n",
       "2        0-1              es   \n",
       "3        0-1              es   \n",
       "4        0-1              es   \n",
       "\n",
       "                                      english_header  \\\n",
       "0  Introduction to the Core Competencies Manual o...   \n",
       "1  Introduction to the Core Competencies Manual o...   \n",
       "2  Introduction to the Core Competencies Manual o...   \n",
       "3  Introduction to the Core Competencies Manual o...   \n",
       "4  Introduction to the Core Competencies Manual o...   \n",
       "\n",
       "                                    english_sentence  \\\n",
       "0  The Ericksonian approach to therapy represents...   \n",
       "1  People who identify themselves as being an Eri...   \n",
       "2  The Milton H. Erickson Foundation, Inc. was in...   \n",
       "3  To this end, the Foundation provides ongoing e...   \n",
       "4  In addition to the work of the Erickson Founda...   \n",
       "\n",
       "                                  non_english_header  \\\n",
       "0  Introduzione al Manuale per le Competenze Chia...   \n",
       "1  Introduzione al Manuale per le Competenze Chia...   \n",
       "2  Introduzione al Manuale per le Competenze Chia...   \n",
       "3  Introduzione al Manuale per le Competenze Chia...   \n",
       "4  Introduzione al Manuale per le Competenze Chia...   \n",
       "\n",
       "                                non_english_sentence  similarity_score  \n",
       "0  El abordaje terapéutico Ericksoniano, represen...          0.955194  \n",
       "1  Personas que se identifican a sí mismos siendo...          0.900950  \n",
       "2  La fundación M. Erickson fue creada el 29 de O...          0.795812  \n",
       "3  Desde Milton Erickson hasta la fecha, la Funda...          0.854311  \n",
       "4  Se agrega al trabajo de la Fundación de Ericks...          0.970191  "
      ]
     },
     "execution_count": 199,
     "metadata": {},
     "output_type": "execute_result"
    }
   ],
   "source": [
    "#Loads the processed dataframe and prints the first five rows.\n",
    "import pandas as pd\n",
    "\n",
    "\n",
    "results = '../data/tables/core_competencies.parquet'\n",
    "df = pd.read_parquet(results)\n",
    "df.head(5)"
   ]
  },
  {
   "cell_type": "code",
   "execution_count": 200,
   "id": "59f13ab9",
   "metadata": {},
   "outputs": [
    {
     "name": "stdout",
     "output_type": "stream",
     "text": [
      "en-es\n",
      "english_header: ADDITIONAL RESOUCES\n",
      "non_english_header: RESSOURCES COMPLEMENTAIRES\n",
      "english_sentence: An effort has been made to provide precise definitions for any term that appears in this manual.\n",
      "non_english_sentence: Un effort a été fait afin de fournir de les définitions précises pour tout terme apparaissant dans ce manuel.\n",
      "similarity_score: 0.9137794971466064\n",
      "\n",
      "en-fr\n",
      "english_header: Glossary of Ericksonian Terminology\n",
      "non_english_header: GLOSSAIRE DE LA TERMINOLOGIE ÉRICKSONIENNE\n",
      "english_sentence: An experiential exercise during which the client dissociates from the symptom or problem behavior by engaging it as an entity separate from the self.\n",
      "non_english_sentence: Extériorisation — Exercice expérientiel à le cours de lequel le client se dissocie de le symptôme ou de le comportement problématique en le considérant comme une entité distincte de lui-même.\n",
      "similarity_score: 0.8339834213256836\n",
      "\n",
      "en-it\n",
      "english_header: History of the Milton H. Erickson Foundation: A Story of Cooperative Effort\n",
      "non_english_header: Storia della Milton H. Erickson Foundation: storia di un Impegno Cooperativo\n",
      "english_sentence: Chandra Lakin and Rachel\n",
      "non_english_sentence: Chandra Lakin, coordinatrice eventi e formazione; Rachel Wu, coordinatrice di il corpo docenti e di l’ istituto;\n",
      "similarity_score: 0.6266840696334839\n",
      "\n",
      "en-pt\n",
      "english_header: THEORY OF CHANGE\n",
      "non_english_header: TEORIA DA MUDANÇA\n",
      "english_sentence: As stated above, Erickson believed that change can and often does take place on an unconscious level.\n",
      "non_english_sentence: Como afirmado acima, Erickson acreditava que a mudança pode ocorrer, e geralmente ocorre, en o nível inconsciente.\n",
      "similarity_score: 0.976270318031311\n",
      "\n"
     ]
    }
   ],
   "source": [
    "#Selects a random example from each language subset and prints the contents.\n",
    "\n",
    "import random\n",
    "pprint = lambda idx, column: print(f\"{column}: {df.loc[idx, column]}\")\n",
    "\n",
    "for lang, subset in df.groupby('target_language'):\n",
    "    sample = random.choice(df.index)\n",
    "    print(f\"en-{lang}\")\n",
    "    for column in [\"english_header\", \"non_english_header\", \"english_sentence\", \"non_english_sentence\", \"similarity_score\"]:\n",
    "        pprint(sample, column)\n",
    "    print()\n",
    "    "
   ]
  },
  {
   "cell_type": "markdown",
   "id": "bf636395",
   "metadata": {},
   "source": [
    "One consideration in the confidence level in sentence matching, approximated by the similarity score. Most sentences are matched with relatively high confidence. When grouped by similarity score, most sentences pairs had a score that exceeded 0.9, signifying close alignment. Almost 75% of pairs had a score above 0.8, and pairs less than 0.5 were an outlying minority:"
   ]
  },
  {
   "cell_type": "code",
   "execution_count": 201,
   "id": "9501cfb1",
   "metadata": {},
   "outputs": [
    {
     "name": "stdout",
     "output_type": "stream",
     "text": [
      "         similarity_score\n",
      "-----  ------------------\n",
      "count         7379\n",
      "mean             0.847177\n",
      "std              0.132552\n",
      "min              0.175458\n",
      "25%              0.781014\n",
      "50%              0.895158\n",
      "75%              0.947546\n",
      "max              1\n"
     ]
    },
    {
     "data": {
      "text/plain": [
       "array([[<Axes: title={'center': 'similarity_score'}>]], dtype=object)"
      ]
     },
     "execution_count": 201,
     "metadata": {},
     "output_type": "execute_result"
    },
    {
     "data": {
      "image/png": "[encoded data removed]",
      "text/plain": [
       "<Figure size 600x300 with 1 Axes>"
      ]
     },
     "metadata": {},
     "output_type": "display_data"
    }
   ],
   "source": [
    "from tabulate import tabulate\n",
    "\n",
    "print(tabulate(df.describe(), headers='keys'))\n",
    "df.hist('similarity_score', bins=10, figsize=(6, 3))"
   ]
  },
  {
   "cell_type": "markdown",
   "id": "decbe15d",
   "metadata": {},
   "source": [
    "While the majority of the data is in good shape, some rows require cleaning to ensure overall quality. Four problematic features were addressed using heuristic methods: `mismatched sentence lengths`, `underlength sentences`, `misaligned sentences`, and `overlength sentences`.\n",
    "\n",
    "## Mismatched Sentence Lengths\n",
    "\n",
    "Differences in formatting and tokenizer behavior between the original document and its translations led to inconsistent sentence segmentation. Beyond a certain threshold, these inconsistently segmented sentences no longer make viable training pairs.\n",
    "\n",
    "To quantify this, the `relative length difference` is calculated by dividing the absolute difference in token sequence lengths by their average. This normalization magnifies length mismatches in shorter sequences and diminishes them in longer ones.\n",
    "\n",
    "The working hypothesis is that a larger relative length difference indicates poor sentence alignment. Accordingly, the quality of the training data is assessed by progressively removing sentence pairs with increasingly large relative length differences.\n",
    "\n",
    "The following code block plots and tabulates how the average `similarity_score` changes as examples exceeding various thresholds are filtered out. The table also shows the corresponding drop in data retention under stricter thresholds:"
   ]
  },
  {
   "cell_type": "code",
   "execution_count": 309,
   "id": "5e26afad",
   "metadata": {},
   "outputs": [
    {
     "data": {
      "image/png": "[encoded data removed]",
      "text/plain": [
       "<Figure size 600x300 with 1 Axes>"
      ]
     },
     "metadata": {},
     "output_type": "display_data"
    },
    {
     "name": "stdout",
     "output_type": "stream",
     "text": [
      "| Max Relative Len Diff   |   Avg Similarity |   Data Retained (%) |\n",
      "|-------------------------|------------------|---------------------|\n",
      "| -                       |           0.8789 |              100    |\n",
      "| 1.0                     |           0.8993 |               90.56 |\n",
      "| 0.9                     |           0.9002 |               89.99 |\n",
      "| 0.8                     |           0.9016 |               89.09 |\n",
      "| 0.7                     |           0.9033 |               88.15 |\n",
      "| 0.6                     |           0.9057 |               86.49 |\n",
      "| 0.5                     |           0.9085 |               84.04 |\n",
      "| 0.4                     |           0.9116 |               80.16 |\n",
      "| 0.3                     |           0.9132 |               74.36 |\n",
      "| 0.2                     |           0.9168 |               60.01 |\n",
      "| 0.1                     |           0.9174 |               34.91 |\n"
     ]
    }
   ],
   "source": [
    "import pandas as pd\n",
    "import matplotlib.pyplot as plt\n",
    "import pandas as pd\n",
    "from typing import List, Callable\n",
    "\n",
    "def drop_duplicates(df: pd.DataFrame):\n",
    "    for column in [\"english_sentence\", \"non_english_sentence\"]:\n",
    "        df.drop_duplicates(subset=['target_language', column], inplace=True)\n",
    "    return df\n",
    "\n",
    "def get_token_columns(\n",
    "    df: pd.DataFrame,\n",
    "    input_columns: List[str] = [\"english_sentence\", \"non_english_sentence\"],\n",
    "    output_columns: List[str] = [\"english_tokens\", \"non_english_tokens\"],\n",
    "    tokenize_fn = lambda x: x.split()\n",
    ") -> pd.DataFrame:\n",
    "    \"\"\"Tokenizes sentence columns in a DataFrame using a specified tokenization function.\"\"\"\n",
    "    for input_col, output_col in zip(input_columns, output_columns):\n",
    "        df[output_col] = df[input_col].apply(tokenize_fn)\n",
    "    return df\n",
    "\n",
    "def compute_relative_diff(value1, value2):\n",
    "    \"\"\"Normalizes the difference between two values by dividing by the mean value.\"\"\"\n",
    "    return abs(value1 - value2) / ((value1 + value2) / 2) if (value1 + value2) != 0 else 0\n",
    "\n",
    "def get_relative_len_diff_column(\n",
    "        df: pd.DataFrame,\n",
    "        input_columns: list[str] = [\"english_tokens\", \"non_english_tokens\"],\n",
    "        output_column: str = \"relative_len_diff\"\n",
    "):\n",
    "    \"\"\"Adds a column for relative length difference of two tokens lists.\"\"\"\n",
    "    df[output_column] = df[input_columns].apply(\n",
    "        lambda row: compute_relative_diff(len(row[input_columns[0]]), len(row[input_columns[1]])),\n",
    "        axis=1\n",
    "    )\n",
    "    return df\n",
    "\n",
    "def filter_by_token_length(\n",
    "    df: pd.DataFrame,\n",
    "    token_columns: List[str] = [\"english_tokens\", \"non_english_tokens\"],\n",
    "    max_length: int = 128\n",
    ") -> pd.DataFrame:\n",
    "    \"\"\"\n",
    "    Filters rows where both tokenized sequences are less than or equal to max_length.\n",
    "    Adds helper columns with sequence lengths and returns filtered DataFrame.\n",
    "    \"\"\"\n",
    "    for col in token_columns:\n",
    "        length_col = f\"{col}_length\"\n",
    "        df[length_col] = df[col].apply(len)\n",
    "\n",
    "    length_cols = [f\"{col}_length\" for col in token_columns]\n",
    "    condition = (df[length_cols[0]] <= max_length) & (df[length_cols[1]] <= max_length)\n",
    "\n",
    "    return df[condition]\n",
    "\n",
    "def sentence_id_fn(df):\n",
    "    original_columns = list(df.columns)\n",
    "    results = []\n",
    "\n",
    "    # Get unique sentence rows\n",
    "    unique = df[['section_id', 'english_sentence']].drop_duplicates()\n",
    "\n",
    "    # Group by section\n",
    "    for section_id, subset in unique.groupby('section_id'):\n",
    "        subset = subset.reset_index(drop=True)\n",
    "        subset['sentence_id'] = [f\"{section_id}-{str(i).zfill(3)}\" for i in range(len(subset))]\n",
    "        results.append(subset)\n",
    "\n",
    "    results = pd.concat(results, ignore_index=True)\n",
    "    merged = df.merge(results, how='left', on=['section_id', 'english_sentence'])\n",
    "    merged = merged[['sentence_id'] + original_columns]\n",
    "    return merged\n",
    "\n",
    "def load_and_preprocess(\n",
    "        path,\n",
    "        max_relative_len_diff: float=None, \n",
    "        min_sequence_len: int=None,\n",
    "        min_similarity: float=None,\n",
    "        model: SentenceTransformer=None,\n",
    "        max_sequence_len: int=None,\n",
    "        remove_intermediate_columns: bool=False,\n",
    "        assign_sentence_ids: bool=False\n",
    "):\n",
    "    \n",
    "    df = pd.read_parquet(path)\n",
    "    original_columns = df.columns\n",
    "\n",
    "    df = drop_duplicates(df)\n",
    "    df = get_token_columns(df)\n",
    "    df = get_relative_len_diff_column(df)\n",
    "    if max_relative_len_diff:\n",
    "        df = df[df.relative_len_diff <= max_relative_len_diff]\n",
    "    if min_sequence_len:\n",
    "        df = df[df.english_tokens.apply(lambda x: len(x) >= min_sequence_len)]\n",
    "    if min_similarity:\n",
    "        df = df[df.similarity_score >= min_similarity]\n",
    "    if model and max_sequence_len:\n",
    "        tokenize_fn = lambda x: model.tokenizer.tokenize(x)\n",
    "        df = get_token_columns(df, tokenize_fn=tokenize_fn)\n",
    "        df = filter_by_token_length(df, max_length=max_sequence_len)\n",
    "    if remove_intermediate_columns:\n",
    "        df = df[original_columns]\n",
    "    if assign_sentence_ids:\n",
    "        df = sentence_id_fn(df)\n",
    "\n",
    "    return df\n",
    "\n",
    "def plot_and_tabulate_length_diff(\n",
    "        df: pd.DataFrame,\n",
    "        thresholds: list = [n * 0.1 for n in range(10, 0, -1)],\n",
    "        x_column = \"relative_len_diff\",\n",
    "        y_column = \"similarity_score\",\n",
    "        figsize = (6, 3)\n",
    "):\n",
    "    \"\"\"Main function that processes, tabulates, and plots change in average similarity over a range of maximum relative sequence length difference.\"\"\"\n",
    "    df = get_token_columns(df)\n",
    "    df = get_relative_len_diff_column(df)\n",
    "\n",
    "    # Initiate an empty list of rows for the final summary table\n",
    "    rows = []\n",
    "\n",
    "    # First row: Baseline stats for the whole dataset\n",
    "    overall_avg = df[y_column].mean()\n",
    "    rows.append({\n",
    "        \"Max Relative Len Diff\": \"-\",\n",
    "        \"Avg Similarity\": round(overall_avg, 4),\n",
    "        \"Data Retained (%)\": 100.00\n",
    "    })\n",
    "\n",
    "    # Remaining rows: Threshold-based stats\n",
    "    total_rows = len(df)\n",
    "    for threshold in thresholds:\n",
    "        filtered = df[df[x_column] < threshold]\n",
    "        avg_similarity = filtered[y_column].mean()\n",
    "        retention = len(filtered) / total_rows * 100  \n",
    "\n",
    "        rows.append({\n",
    "            \"Max Relative Len Diff\": round(threshold, 2),\n",
    "            \"Avg Similarity\": round(avg_similarity, 4),\n",
    "            \"Data Retained (%)\": round(retention, 2)\n",
    "        })\n",
    "\n",
    "    summary_table = pd.DataFrame(rows)\n",
    "\n",
    "    # Plot similarity (skip the baseline row with \"-\")\n",
    "    plot_data = summary_table[summary_table[\"Max Relative Len Diff\"] != \"-\"]\n",
    "\n",
    "\n",
    "    plt.figure(figsize=figsize)\n",
    "    plt.plot(\n",
    "        plot_data['Max Relative Len Diff'],\n",
    "        plot_data['Avg Similarity'],\n",
    "        marker='o',\n",
    "        color='blue',\n",
    "        linewidth=2\n",
    "    )\n",
    "    plt.title('Average Similarity vs. Max Relative Length Difference')\n",
    "    plt.xlabel('Relative Len Difference Threshold')\n",
    "    plt.ylabel('Average Similarity')\n",
    "    plt.grid(True)\n",
    "    plt.gca().invert_xaxis()\n",
    "    plt.tight_layout()\n",
    "    plt.show()\n",
    "\n",
    "    # Display table\n",
    "    print(tabulate(summary_table, headers='keys', tablefmt='github', showindex=False))\n",
    "    return df\n",
    "\n",
    "results = '../data/tables/core_competencies.parquet'\n",
    "df = load_and_preprocess(results)\n",
    "\n",
    "df = plot_and_tabulate_length_diff(df)\n"
   ]
  },
  {
   "cell_type": "markdown",
   "id": "cd954c50",
   "metadata": {},
   "source": [
    "The plot and table illustrate how average similarity and data retention change as sentence pairs exceeding a length difference threshold are progressively excluded.\n",
    "\n",
    "Applying a threshold of **1.0** already results in a **3-point increase** in average similarity. As the threshold becomes more restrictive, the quality of sentence alignments continues to improve.\n",
    "\n",
    "However, this comes at a cost—**data retention drops sharply** once the threshold falls below **0.5**."
   ]
  },
  {
   "cell_type": "markdown",
   "id": "34b8ac70",
   "metadata": {},
   "source": [
    "## Underlength Sentences\n",
    "\n",
    "During tokenization, some formatting artifacts, such as list markers, page dividers, and common headings, were extracted as standalone sentences. These segments are often paired incorrectly, despite recieving a relatively high similarity score. Even when correctly aligned, these minimal fragments are usually trivial for the baseline model to interpret, making them uninformative for training.\n",
    "\n",
    "The following code block displays examples with 1 to 5 tokens, illustrating how sequence quality improves once a minimum length threshold is enforced:"
   ]
  },
  {
   "cell_type": "code",
   "execution_count": 262,
   "id": "3fd64ac5",
   "metadata": {},
   "outputs": [
    {
     "name": "stdout",
     "output_type": "stream",
     "text": [
      "Examples with 1 tokens:\n",
      "\n",
      "| english_sentence   | non_english_sentence   |   similarity_score |\n",
      "|--------------------|------------------------|--------------------|\n",
      "| •                  | ).                     |           0.803156 |\n",
      "| II.                | II.                    |           1        |\n",
      "| VI.                | III.                   |           0.655262 |\n",
      "| Reliability        | Confiabilidade         |           0.856927 |\n",
      "| II.                | II.                    |           1        |\n",
      "\n",
      "Examples with 5 tokens:\n",
      "\n",
      "| english_sentence                               | non_english_sentence                                                  |   similarity_score |\n",
      "|------------------------------------------------|-----------------------------------------------------------------------|--------------------|\n",
      "| (Also referred to as: Surprise).               | (Également appelé : recentrage).                                      |           0.563681 |\n",
      "| Operational Examples of Strategic Approach     | À quoi ressemble l’approche stratégique ?                             |           0.88312  |\n",
      "| What does Tailoring look like?                 | À quoi ressemble l’individuation ?                                    |           0.454763 |\n",
      "| The qualitative information is optional.       | La información cualitativa es opcional 3.                             |           0.768412 |\n",
      "| Responsive Attentiveness – See Suggestibility. | Concentrazione o Focus) Attenzione Reattiva – Vedi Suggestionabilità. |           0.824424 |\n",
      "\n"
     ]
    }
   ],
   "source": [
    "def pprint(df):\n",
    "    print(tabulate(df[[\n",
    "    'english_sentence', \n",
    "    'non_english_sentence',\n",
    "    'similarity_score']].sample(5), headers= 'keys', showindex=False, tablefmt='github'))\n",
    "\n",
    "# Load the DataFrame with token lists and the relative length differences.\n",
    "results = '../data/tables/core_competencies.parquet'\n",
    "df = load_and_preprocess(\n",
    "    results,\n",
    "    max_relative_len_diff=0.5)\n",
    "\n",
    "for n in [1, 5]:\n",
    "    print(f\"Examples with {n} tokens:\")\n",
    "    print()\n",
    "    pprint(df[df.english_tokens.apply(lambda x: len(x) == n)])\n",
    "    print()"
   ]
  },
  {
   "cell_type": "markdown",
   "id": "cc3116ab",
   "metadata": {},
   "source": [
    "## Misaligned Sentences\n",
    "\n",
    "Sentence pairs with similarity scores below a certain threshold are likely to be misaligned and should be withheld from training. However, this must be done with care. While correctly aligned pairs with high similarity scores help anchor the model to the ground truth, they offer limited learning value. In contrast, correctly aligned pairs with low similarity scores represent the best opportunity for the model to learn novel or difficult relationships.\n",
    "\n",
    "For this iteration, a minimum similarity threshold of 0.7 was heuristically chosen. In a future update, this dataset will undergo human review to validate alignments and refine threshold selection."
   ]
  },
  {
   "cell_type": "code",
   "execution_count": null,
   "id": "4cdfaba6",
   "metadata": {},
   "outputs": [
    {
     "name": "stdout",
     "output_type": "stream",
     "text": [
      "Score: 0.5268\n",
      "\n",
      "The therapist was too quick to provide answers to all the client’s questions.\n",
      "Mover se muy rápidamente con los cambios, provocando el sentimiento de incompetencia o deseos de retirar se de la terapia.\n",
      "\n",
      "\n",
      "Score: 0.6941\n",
      "\n",
      "Described poor outcomes with clients who had the same type of problem or gave the idea that the client’s problem was troubling.\n",
      "En un intento por hacer que el problema sea más manejable, el terapeuta sugiere inadvertidamente que el paciente tiene una mala capacidad de afrontamiento o más fragilidad que la verdadera.\n",
      "\n",
      "\n",
      "Score: 0.7751\n",
      "\n",
      "Actions associated with a particular level of awareness or experience (e.g., trance).\n",
      "Comportamento Stato-Dipendente – Azioni associate ad un particolare livello di consapevolezza o tipo di esperienza (per esempio, la trance).\n",
      "\n",
      "\n"
     ]
    }
   ],
   "source": [
    "results = '../data/tables/core_competencies.parquet'\n",
    "df = load_and_preprocess(\n",
    "    results,\n",
    "    max_relative_len_diff=0.5,\n",
    "    min_sequence_len=5)\n",
    "\n",
    "for n in [0.5, 0.6, 0.7]:\n",
    "   for _, row in df[df.similarity_score.between(n, n+0.1)].sample(1).iterrows():\n",
    "      print(\"Score:\", round(row.similarity_score, 4))\n",
    "      print()\n",
    "      print(row['english_sentence'])\n",
    "      print(row['non_english_sentence'])\n",
    "      print()\n",
    "   print()\n"
   ]
  },
  {
   "cell_type": "markdown",
   "id": "1486ec40",
   "metadata": {},
   "source": [
    "### Overlength Sentences\n",
    "\n",
    "The final consideration is the length of tokenized sequences relative to the model’s input constraints. The target model has a maximum context window of 128 tokens. Fortunately, analysis shows that most sequences fall well below this limit. Outlier sequences that exceed the maximum length will be excluded from the training set."
   ]
  },
  {
   "cell_type": "code",
   "execution_count": 329,
   "id": "eaf59cd3",
   "metadata": {},
   "outputs": [
    {
     "name": "stderr",
     "output_type": "stream",
     "text": [
      "Token indices sequence length is longer than the specified maximum sequence length for this model (143 > 128). Running this sequence through the model will result in indexing errors\n"
     ]
    },
    {
     "name": "stdout",
     "output_type": "stream",
     "text": [
      "\n",
      "|       |   english_sequence_length |   non_english_sequence_length |\n",
      "|-------|---------------------------|-------------------------------|\n",
      "| count |                 4774      |                     4774      |\n",
      "| mean  |                   31.7861 |                       35.7602 |\n",
      "| std   |                   14.5225 |                       16.8229 |\n",
      "| min   |                    7      |                        6      |\n",
      "| 25%   |                   22      |                       24      |\n",
      "| 50%   |                   30      |                       33      |\n",
      "| 75%   |                   39      |                       44      |\n",
      "| max   |                  119      |                      165      |\n"
     ]
    }
   ],
   "source": [
    "model = SentenceTransformer('paraphrase-multilingual-mpnet-base-v2')\n",
    "tokenize_fn = lambda x: model.tokenizer.tokenize(x)\n",
    "\n",
    "results = '../data/tables/core_competencies.parquet'\n",
    "df = load_and_preprocess(\n",
    "    results,\n",
    "    max_relative_len_diff=0.5,\n",
    "    min_sequence_len=5,\n",
    "    min_similarity= 0.7)\n",
    "\n",
    "df = get_token_columns(df, tokenize_fn=tokenize_fn)\n",
    "get_token_len = lambda column: df[column].apply(lambda x: len(x))\n",
    "df['english_sequence_length'] = get_token_len('english_tokens')\n",
    "df['non_english_sequence_length'] = get_token_len('non_english_tokens')\n",
    "\n",
    "print()\n",
    "print(tabulate(\n",
    "    df[['english_sequence_length', 'non_english_sequence_length']].describe(),\n",
    "    headers='keys',\n",
    "    tablefmt='github'))"
   ]
  },
  {
   "cell_type": "markdown",
   "id": "52f58349",
   "metadata": {},
   "source": [
    "## Final Considerations\n",
    "\n",
    "The final analysis shows how much data was lost to cleansing and checks the balance by language."
   ]
  },
  {
   "cell_type": "code",
   "execution_count": null,
   "id": "11dbd05f",
   "metadata": {},
   "outputs": [
    {
     "name": "stderr",
     "output_type": "stream",
     "text": [
      "Token indices sequence length is longer than the specified maximum sequence length for this model (143 > 128). Running this sequence through the model will result in indexing errors\n"
     ]
    },
    {
     "name": "stdout",
     "output_type": "stream",
     "text": [
      "\n",
      "Raw Dataset: 7379 rows\n",
      "Cleansed Dataset: 4769 rows\n",
      "Data retained: 64.63%\n",
      "\n",
      "| Language   |   Examples |\n",
      "|------------|------------|\n",
      "| es         |       1102 |\n",
      "| fr         |       1200 |\n",
      "| it         |       1283 |\n",
      "| pt         |       1184 |\n"
     ]
    }
   ],
   "source": [
    "model = SentenceTransformer('paraphrase-multilingual-mpnet-base-v2')\n",
    "results = '../data/tables/core_competencies.parquet'\n",
    "\n",
    "raw = pd.read_parquet(results)\n",
    "cleansed = load_and_preprocess(\n",
    "    results,\n",
    "    max_relative_len_diff=0.5,\n",
    "    min_sequence_len=5,\n",
    "    min_similarity=0.7,\n",
    "    model=model,\n",
    "    max_sequence_len=128,\n",
    "    remove_intermediate_columns=True,\n",
    "    assign_sentence_ids=True\n",
    ")\n",
    "\n",
    "print()\n",
    "\n",
    "print(\"Raw Dataset:\", f\"{len(raw)} rows\")\n",
    "print(\"Cleansed Dataset:\", f\"{len(cleansed)} rows\")\n",
    "print(f\"Data retained: {len(cleansed) / len(raw) * 100:.2f}%\")\n",
    "print()\n",
    "print(tabulate(\n",
    "    cleansed.groupby('target_language').agg({'english_sentence': 'count'}), \n",
    "    headers = ['Language', 'Examples'],\n",
    "    tablefmt='github'))"
   ]
  },
  {
   "cell_type": "markdown",
   "id": "9be1753f",
   "metadata": {},
   "source": [
    "Although 35% of the dataset was removed, the remaining data remains well balanced across languages. This is a positive sign, suggesting that the problematic features were evenly distributed rather than concentrated in one language.\n",
    "\n",
    "Finally, the cleansed dataset is uploaded to the HuggingFace hub."
   ]
  },
  {
   "cell_type": "code",
   "execution_count": 331,
   "id": "bcfca957",
   "metadata": {},
   "outputs": [
    {
     "data": {
      "application/vnd.jupyter.widget-view+json": {
       "model_id": "c848918248f748b0adeaf187e8a055c2",
       "version_major": 2,
       "version_minor": 0
      },
      "text/plain": [
       "Uploading the dataset shards:   0%|          | 0/1 [00:00<?, ?it/s]"
      ]
     },
     "metadata": {},
     "output_type": "display_data"
    },
    {
     "data": {
      "application/vnd.jupyter.widget-view+json": {
       "model_id": "437f3db5eea64743b807cae74269022c",
       "version_major": 2,
       "version_minor": 0
      },
      "text/plain": [
       "Creating parquet from Arrow format:   0%|          | 0/5 [00:00<?, ?ba/s]"
      ]
     },
     "metadata": {},
     "output_type": "display_data"
    },
    {
     "data": {
      "application/vnd.jupyter.widget-view+json": {
       "model_id": "af10d3be5a0145efa7ab5f3770abfc13",
       "version_major": 2,
       "version_minor": 0
      },
      "text/plain": [
       "README.md:   0%|          | 0.00/3.99k [00:00<?, ?B/s]"
      ]
     },
     "metadata": {},
     "output_type": "display_data"
    },
    {
     "name": "stderr",
     "output_type": "stream",
     "text": [
      "c:\\Users\\Roxie\\mhe\\.conda\\lib\\site-packages\\huggingface_hub\\file_download.py:143: UserWarning: `huggingface_hub` cache-system uses symlinks by default to efficiently store duplicated files but your machine does not support them in C:\\Users\\Roxie\\.cache\\huggingface\\hub\\datasets--LoneWolfgang--ericksonian-core-competencies-multilingual. Caching files will still work but in a degraded version that might require more space on your disk. This warning can be disabled by setting the `HF_HUB_DISABLE_SYMLINKS_WARNING` environment variable. For more details, see https://huggingface.co/docs/huggingface_hub/how-to-cache#limitations.\n",
      "To support symlinks on Windows, you either need to activate Developer Mode or to run Python as an administrator. In order to activate developer mode, see this article: https://docs.microsoft.com/en-us/windows/apps/get-started/enable-your-device-for-development\n",
      "  warnings.warn(message)\n"
     ]
    },
    {
     "data": {
      "text/plain": [
       "CommitInfo(commit_url='https://huggingface.co/datasets/LoneWolfgang/ericksonian-core-competencies-multilingual/commit/a74e7e5c515376f0412daef2088a1451a7b843a1', commit_message='Upload dataset', commit_description='', oid='a74e7e5c515376f0412daef2088a1451a7b843a1', pr_url=None, repo_url=RepoUrl('https://huggingface.co/datasets/LoneWolfgang/ericksonian-core-competencies-multilingual', endpoint='https://huggingface.co', repo_type='dataset', repo_id='LoneWolfgang/ericksonian-core-competencies-multilingual'), pr_revision=None, pr_num=None)"
      ]
     },
     "execution_count": 331,
     "metadata": {},
     "output_type": "execute_result"
    }
   ],
   "source": [
    "from datasets import Dataset\n",
    "\n",
    "repo_id = 'LoneWolfgang/ericksonian-core-competencies-multilingual'\n",
    "\n",
    "Dataset.from_pandas(cleansed).push_to_hub(repo_id)"
   ]
  }
 ],
 "metadata": {
  "kernelspec": {
   "display_name": "Python 3",
   "language": "python",
   "name": "python3"
  },
  "language_info": {
   "codemirror_mode": {
    "name": "ipython",
    "version": 3
   },
   "file_extension": ".py",
   "mimetype": "text/x-python",
   "name": "python",
   "nbconvert_exporter": "python",
   "pygments_lexer": "ipython3",
   "version": "3.10.16"
  }
 },
 "nbformat": 4,
 "nbformat_minor": 5
}
